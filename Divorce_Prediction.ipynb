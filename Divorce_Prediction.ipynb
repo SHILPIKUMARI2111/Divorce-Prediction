{
  "nbformat": 4,
  "nbformat_minor": 0,
  "metadata": {
    "colab": {
      "name": "Divorce Prediction.ipynb",
      "provenance": [],
      "collapsed_sections": [],
      "authorship_tag": "ABX9TyPfEjEvGwFORq+9iWyslbPG",
      "include_colab_link": true
    },
    "kernelspec": {
      "name": "python3",
      "display_name": "Python 3"
    }
  },
  "cells": [
    {
      "cell_type": "markdown",
      "metadata": {
        "id": "view-in-github",
        "colab_type": "text"
      },
      "source": [
        "<a href=\"https://colab.research.google.com/github/SaimSonu/Dataset/blob/master/Divorce_Prediction.ipynb\" target=\"_parent\"><img src=\"https://colab.research.google.com/assets/colab-badge.svg\" alt=\"Open In Colab\"/></a>"
      ]
    },
    {
      "cell_type": "markdown",
      "metadata": {
        "id": "js8mdgl3Ia2-",
        "colab_type": "text"
      },
      "source": [
        "## Divorce Prediction using Machine Learning"
      ]
    },
    {
      "cell_type": "markdown",
      "metadata": {
        "id": "WhrBfx3sIvDX",
        "colab_type": "text"
      },
      "source": [
        "**UCI Machine Learning Repository** has this dataset which contains some attributes which relate to divorce. Each person gives the attribute a score of 0,1,2,3 or 4 based on how he feels.\n",
        "Target is shown as 1 for divorce and 0 for no divorce\n",
        "This data can be used to predict the likeliness of divorce.\n",
        "\n",
        "**Attribute Information:**\n",
        "\n",
        "1. If one of us apologizes when our discussion deteriorates, the discussion ends.\n",
        "2. I know we can ignore our differences, even if things get hard sometimes.\n",
        "3. When we need it, we can take our discussions with my spouse from the beginning and correct it.\n",
        "4. When I discuss with my spouse, to contact him will eventually work.\n",
        "5. The time I spent with my wife is special for us.\n",
        "6. We don't have time at home as partners.\n",
        "7. We are like two strangers who share the same environment at home rather than family.\n",
        "8. I enjoy our holidays with my wife.\n",
        "9. I enjoy traveling with my wife.\n",
        "10. Most of our goals are common to my spouse.\n",
        "11. I think that one day in the future, when I look back, I see that my spouse and I have been in harmony with each other.\n",
        "12. My spouse and I have similar values in terms of personal freedom.\n",
        "13. My spouse and I have similar sense of entertainment.\n",
        "14. Most of our goals for people (children, friends, etc.) are the same.\n",
        "15. Our dreams with my spouse are similar and harmonious.\n",
        "16. We're compatible with my spouse about what love should be.\n",
        "17. We share the same views about being happy in our life with my spouse\n",
        "18. My spouse and I have similar ideas about how marriage should be\n",
        "19. My spouse and I have similar ideas about how roles should be in marriage\n",
        "20. My spouse and I have similar values in trust.\n",
        "21. I know exactly what my wife likes.\n",
        "22. I know how my spouse wants to be taken care of when she/he sick.\n",
        "23. I know my spouse's favorite food.\n",
        "24. I can tell you what kind of stress my spouse is facing in her/his life.\n",
        "25. I have knowledge of my spouse's inner world.\n",
        "26. I know my spouse's basic anxieties.\n",
        "27. I know what my spouse's current sources of stress are.\n",
        "28. I know my spouse's hopes and wishes.\n",
        "29. I know my spouse very well.\n",
        "30. I know my spouse's friends and their social relationships.\n",
        "31. I feel aggressive when I argue with my spouse.\n",
        "32. When discussing with my spouse, I usually use expressions such as ‘you always’ or ‘you never’ .\n",
        "33. I can use negative statements about my spouse's personality during our discussions.\n",
        "34. I can use offensive expressions during our discussions.\n",
        "35. I can insult my spouse during our discussions.\n",
        "36. I can be humiliating when we discussions.\n",
        "37. My discussion with my spouse is not calm.\n",
        "38. I hate my spouse's way of open a subject.\n",
        "39. Our discussions often occur suddenly.\n",
        "40. We're just starting a discussion before I know what's going on.\n",
        "41. When I talk to my spouse about something, my calm suddenly breaks.\n",
        "42. When I argue with my spouse, ı only go out and I don't say a word.\n",
        "43. I mostly stay silent to calm the environment a little bit.\n",
        "44. Sometimes I think it's good for me to leave home for a while.\n",
        "45. I'd rather stay silent than discuss with my spouse.\n",
        "46. Even if I'm right in the discussion, I stay silent to hurt my spouse.\n",
        "47. When I discuss with my spouse, I stay silent because I am afraid of not being able to control my anger.\n",
        "48. I feel right in our discussions.\n",
        "49. I have nothing to do with what I've been accused of.\n",
        "50. I'm not actually the one who's guilty about what I'm accused of.\n",
        "51. I'm not the one who's wrong about problems at home.\n",
        "52. I wouldn't hesitate to tell my spouse about her/his inadequacy.\n",
        "53. When I discuss, I remind my spouse of her/his inadequacy.\n",
        "54. I'm not afraid to tell my spouse about her/his incompetence."
      ]
    },
    {
      "cell_type": "code",
      "metadata": {
        "id": "gsBoghMaIwPm",
        "colab_type": "code",
        "colab": {}
      },
      "source": [
        "import numpy as np\n",
        "import pandas as pd\n",
        "import seaborn as sns\n",
        "import matplotlib.pyplot as plt\n",
        "%matplotlib inline"
      ],
      "execution_count": 0,
      "outputs": []
    },
    {
      "cell_type": "code",
      "metadata": {
        "id": "9pA9tgy8I0Ds",
        "colab_type": "code",
        "colab": {
          "resources": {
            "http://localhost:8080/nbextensions/google.colab/files.js": {
              "data": "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",
              "ok": true,
              "headers": [
                [
                  "content-type",
                  "application/javascript"
                ]
              ],
              "status": 200,
              "status_text": ""
            }
          },
          "base_uri": "https://localhost:8080/",
          "height": 74
        },
        "outputId": "8a85c163-95cf-46d4-f8df-96e392b23465"
      },
      "source": [
        "from google.colab import files\n",
        "uploaded = files.upload()"
      ],
      "execution_count": 2,
      "outputs": [
        {
          "output_type": "display_data",
          "data": {
            "text/html": [
              "\n",
              "     <input type=\"file\" id=\"files-ace7f4ed-308b-4ad9-8df1-86710c310c34\" name=\"files[]\" multiple disabled />\n",
              "     <output id=\"result-ace7f4ed-308b-4ad9-8df1-86710c310c34\">\n",
              "      Upload widget is only available when the cell has been executed in the\n",
              "      current browser session. Please rerun this cell to enable.\n",
              "      </output>\n",
              "      <script src=\"/nbextensions/google.colab/files.js\"></script> "
            ],
            "text/plain": [
              "<IPython.core.display.HTML object>"
            ]
          },
          "metadata": {
            "tags": []
          }
        },
        {
          "output_type": "stream",
          "text": [
            "Saving divorce.csv to divorce (7).csv\n"
          ],
          "name": "stdout"
        }
      ]
    },
    {
      "cell_type": "code",
      "metadata": {
        "id": "AGfNO8URJCV2",
        "colab_type": "code",
        "colab": {}
      },
      "source": [
        "import io\n",
        "df = pd.read_csv(io.BytesIO(uploaded['divorce.csv']),sep=\";\")"
      ],
      "execution_count": 0,
      "outputs": []
    },
    {
      "cell_type": "code",
      "metadata": {
        "id": "CVlHW0s8LTPV",
        "colab_type": "code",
        "colab": {
          "base_uri": "https://localhost:8080/",
          "height": 224
        },
        "outputId": "b2c4d338-3b7e-4dfe-c73c-0eee286793e1"
      },
      "source": [
        "df.head()"
      ],
      "execution_count": 4,
      "outputs": [
        {
          "output_type": "execute_result",
          "data": {
            "text/html": [
              "<div>\n",
              "<style scoped>\n",
              "    .dataframe tbody tr th:only-of-type {\n",
              "        vertical-align: middle;\n",
              "    }\n",
              "\n",
              "    .dataframe tbody tr th {\n",
              "        vertical-align: top;\n",
              "    }\n",
              "\n",
              "    .dataframe thead th {\n",
              "        text-align: right;\n",
              "    }\n",
              "</style>\n",
              "<table border=\"1\" class=\"dataframe\">\n",
              "  <thead>\n",
              "    <tr style=\"text-align: right;\">\n",
              "      <th></th>\n",
              "      <th>Atr1</th>\n",
              "      <th>Atr2</th>\n",
              "      <th>Atr3</th>\n",
              "      <th>Atr4</th>\n",
              "      <th>Atr5</th>\n",
              "      <th>Atr6</th>\n",
              "      <th>Atr7</th>\n",
              "      <th>Atr8</th>\n",
              "      <th>Atr9</th>\n",
              "      <th>Atr10</th>\n",
              "      <th>Atr11</th>\n",
              "      <th>Atr12</th>\n",
              "      <th>Atr13</th>\n",
              "      <th>Atr14</th>\n",
              "      <th>Atr15</th>\n",
              "      <th>Atr16</th>\n",
              "      <th>Atr17</th>\n",
              "      <th>Atr18</th>\n",
              "      <th>Atr19</th>\n",
              "      <th>Atr20</th>\n",
              "      <th>Atr21</th>\n",
              "      <th>Atr22</th>\n",
              "      <th>Atr23</th>\n",
              "      <th>Atr24</th>\n",
              "      <th>Atr25</th>\n",
              "      <th>Atr26</th>\n",
              "      <th>Atr27</th>\n",
              "      <th>Atr28</th>\n",
              "      <th>Atr29</th>\n",
              "      <th>Atr30</th>\n",
              "      <th>Atr31</th>\n",
              "      <th>Atr32</th>\n",
              "      <th>Atr33</th>\n",
              "      <th>Atr34</th>\n",
              "      <th>Atr35</th>\n",
              "      <th>Atr36</th>\n",
              "      <th>Atr37</th>\n",
              "      <th>Atr38</th>\n",
              "      <th>Atr39</th>\n",
              "      <th>Atr40</th>\n",
              "      <th>Atr41</th>\n",
              "      <th>Atr42</th>\n",
              "      <th>Atr43</th>\n",
              "      <th>Atr44</th>\n",
              "      <th>Atr45</th>\n",
              "      <th>Atr46</th>\n",
              "      <th>Atr47</th>\n",
              "      <th>Atr48</th>\n",
              "      <th>Atr49</th>\n",
              "      <th>Atr50</th>\n",
              "      <th>Atr51</th>\n",
              "      <th>Atr52</th>\n",
              "      <th>Atr53</th>\n",
              "      <th>Atr54</th>\n",
              "      <th>Target</th>\n",
              "    </tr>\n",
              "  </thead>\n",
              "  <tbody>\n",
              "    <tr>\n",
              "      <th>0</th>\n",
              "      <td>2</td>\n",
              "      <td>2</td>\n",
              "      <td>4</td>\n",
              "      <td>1</td>\n",
              "      <td>0</td>\n",
              "      <td>0</td>\n",
              "      <td>0</td>\n",
              "      <td>0</td>\n",
              "      <td>0</td>\n",
              "      <td>0</td>\n",
              "      <td>1</td>\n",
              "      <td>0</td>\n",
              "      <td>1</td>\n",
              "      <td>1</td>\n",
              "      <td>0</td>\n",
              "      <td>1</td>\n",
              "      <td>0</td>\n",
              "      <td>0</td>\n",
              "      <td>0</td>\n",
              "      <td>1</td>\n",
              "      <td>0</td>\n",
              "      <td>0</td>\n",
              "      <td>0</td>\n",
              "      <td>0</td>\n",
              "      <td>0</td>\n",
              "      <td>0</td>\n",
              "      <td>0</td>\n",
              "      <td>0</td>\n",
              "      <td>0</td>\n",
              "      <td>1</td>\n",
              "      <td>1</td>\n",
              "      <td>2</td>\n",
              "      <td>1</td>\n",
              "      <td>2</td>\n",
              "      <td>0</td>\n",
              "      <td>1</td>\n",
              "      <td>2</td>\n",
              "      <td>1</td>\n",
              "      <td>3</td>\n",
              "      <td>3</td>\n",
              "      <td>2</td>\n",
              "      <td>1</td>\n",
              "      <td>1</td>\n",
              "      <td>2</td>\n",
              "      <td>3</td>\n",
              "      <td>2</td>\n",
              "      <td>1</td>\n",
              "      <td>3</td>\n",
              "      <td>3</td>\n",
              "      <td>3</td>\n",
              "      <td>2</td>\n",
              "      <td>3</td>\n",
              "      <td>2</td>\n",
              "      <td>1</td>\n",
              "      <td>1</td>\n",
              "    </tr>\n",
              "    <tr>\n",
              "      <th>1</th>\n",
              "      <td>4</td>\n",
              "      <td>4</td>\n",
              "      <td>4</td>\n",
              "      <td>4</td>\n",
              "      <td>4</td>\n",
              "      <td>0</td>\n",
              "      <td>0</td>\n",
              "      <td>4</td>\n",
              "      <td>4</td>\n",
              "      <td>4</td>\n",
              "      <td>4</td>\n",
              "      <td>3</td>\n",
              "      <td>4</td>\n",
              "      <td>0</td>\n",
              "      <td>4</td>\n",
              "      <td>4</td>\n",
              "      <td>4</td>\n",
              "      <td>4</td>\n",
              "      <td>3</td>\n",
              "      <td>2</td>\n",
              "      <td>1</td>\n",
              "      <td>1</td>\n",
              "      <td>0</td>\n",
              "      <td>2</td>\n",
              "      <td>2</td>\n",
              "      <td>1</td>\n",
              "      <td>2</td>\n",
              "      <td>0</td>\n",
              "      <td>1</td>\n",
              "      <td>1</td>\n",
              "      <td>0</td>\n",
              "      <td>4</td>\n",
              "      <td>2</td>\n",
              "      <td>3</td>\n",
              "      <td>0</td>\n",
              "      <td>2</td>\n",
              "      <td>3</td>\n",
              "      <td>4</td>\n",
              "      <td>2</td>\n",
              "      <td>4</td>\n",
              "      <td>2</td>\n",
              "      <td>2</td>\n",
              "      <td>3</td>\n",
              "      <td>4</td>\n",
              "      <td>2</td>\n",
              "      <td>2</td>\n",
              "      <td>2</td>\n",
              "      <td>3</td>\n",
              "      <td>4</td>\n",
              "      <td>4</td>\n",
              "      <td>4</td>\n",
              "      <td>4</td>\n",
              "      <td>2</td>\n",
              "      <td>2</td>\n",
              "      <td>1</td>\n",
              "    </tr>\n",
              "    <tr>\n",
              "      <th>2</th>\n",
              "      <td>2</td>\n",
              "      <td>2</td>\n",
              "      <td>2</td>\n",
              "      <td>2</td>\n",
              "      <td>1</td>\n",
              "      <td>3</td>\n",
              "      <td>2</td>\n",
              "      <td>1</td>\n",
              "      <td>1</td>\n",
              "      <td>2</td>\n",
              "      <td>3</td>\n",
              "      <td>4</td>\n",
              "      <td>2</td>\n",
              "      <td>3</td>\n",
              "      <td>3</td>\n",
              "      <td>3</td>\n",
              "      <td>3</td>\n",
              "      <td>3</td>\n",
              "      <td>3</td>\n",
              "      <td>2</td>\n",
              "      <td>1</td>\n",
              "      <td>0</td>\n",
              "      <td>1</td>\n",
              "      <td>2</td>\n",
              "      <td>2</td>\n",
              "      <td>2</td>\n",
              "      <td>2</td>\n",
              "      <td>2</td>\n",
              "      <td>3</td>\n",
              "      <td>2</td>\n",
              "      <td>3</td>\n",
              "      <td>3</td>\n",
              "      <td>1</td>\n",
              "      <td>1</td>\n",
              "      <td>1</td>\n",
              "      <td>1</td>\n",
              "      <td>2</td>\n",
              "      <td>1</td>\n",
              "      <td>3</td>\n",
              "      <td>3</td>\n",
              "      <td>3</td>\n",
              "      <td>3</td>\n",
              "      <td>2</td>\n",
              "      <td>3</td>\n",
              "      <td>2</td>\n",
              "      <td>3</td>\n",
              "      <td>2</td>\n",
              "      <td>3</td>\n",
              "      <td>1</td>\n",
              "      <td>1</td>\n",
              "      <td>1</td>\n",
              "      <td>2</td>\n",
              "      <td>2</td>\n",
              "      <td>2</td>\n",
              "      <td>1</td>\n",
              "    </tr>\n",
              "    <tr>\n",
              "      <th>3</th>\n",
              "      <td>3</td>\n",
              "      <td>2</td>\n",
              "      <td>3</td>\n",
              "      <td>2</td>\n",
              "      <td>3</td>\n",
              "      <td>3</td>\n",
              "      <td>3</td>\n",
              "      <td>3</td>\n",
              "      <td>3</td>\n",
              "      <td>3</td>\n",
              "      <td>4</td>\n",
              "      <td>3</td>\n",
              "      <td>3</td>\n",
              "      <td>4</td>\n",
              "      <td>3</td>\n",
              "      <td>3</td>\n",
              "      <td>3</td>\n",
              "      <td>3</td>\n",
              "      <td>3</td>\n",
              "      <td>4</td>\n",
              "      <td>1</td>\n",
              "      <td>1</td>\n",
              "      <td>1</td>\n",
              "      <td>1</td>\n",
              "      <td>2</td>\n",
              "      <td>1</td>\n",
              "      <td>1</td>\n",
              "      <td>1</td>\n",
              "      <td>1</td>\n",
              "      <td>3</td>\n",
              "      <td>2</td>\n",
              "      <td>3</td>\n",
              "      <td>2</td>\n",
              "      <td>2</td>\n",
              "      <td>1</td>\n",
              "      <td>1</td>\n",
              "      <td>3</td>\n",
              "      <td>3</td>\n",
              "      <td>4</td>\n",
              "      <td>4</td>\n",
              "      <td>2</td>\n",
              "      <td>2</td>\n",
              "      <td>3</td>\n",
              "      <td>2</td>\n",
              "      <td>3</td>\n",
              "      <td>2</td>\n",
              "      <td>2</td>\n",
              "      <td>3</td>\n",
              "      <td>3</td>\n",
              "      <td>3</td>\n",
              "      <td>3</td>\n",
              "      <td>2</td>\n",
              "      <td>2</td>\n",
              "      <td>2</td>\n",
              "      <td>1</td>\n",
              "    </tr>\n",
              "    <tr>\n",
              "      <th>4</th>\n",
              "      <td>2</td>\n",
              "      <td>2</td>\n",
              "      <td>1</td>\n",
              "      <td>1</td>\n",
              "      <td>1</td>\n",
              "      <td>1</td>\n",
              "      <td>0</td>\n",
              "      <td>0</td>\n",
              "      <td>0</td>\n",
              "      <td>0</td>\n",
              "      <td>0</td>\n",
              "      <td>1</td>\n",
              "      <td>0</td>\n",
              "      <td>1</td>\n",
              "      <td>1</td>\n",
              "      <td>1</td>\n",
              "      <td>1</td>\n",
              "      <td>1</td>\n",
              "      <td>2</td>\n",
              "      <td>1</td>\n",
              "      <td>1</td>\n",
              "      <td>0</td>\n",
              "      <td>0</td>\n",
              "      <td>0</td>\n",
              "      <td>0</td>\n",
              "      <td>2</td>\n",
              "      <td>1</td>\n",
              "      <td>2</td>\n",
              "      <td>1</td>\n",
              "      <td>1</td>\n",
              "      <td>1</td>\n",
              "      <td>1</td>\n",
              "      <td>1</td>\n",
              "      <td>1</td>\n",
              "      <td>0</td>\n",
              "      <td>0</td>\n",
              "      <td>0</td>\n",
              "      <td>0</td>\n",
              "      <td>2</td>\n",
              "      <td>1</td>\n",
              "      <td>0</td>\n",
              "      <td>2</td>\n",
              "      <td>3</td>\n",
              "      <td>0</td>\n",
              "      <td>2</td>\n",
              "      <td>2</td>\n",
              "      <td>1</td>\n",
              "      <td>2</td>\n",
              "      <td>3</td>\n",
              "      <td>2</td>\n",
              "      <td>2</td>\n",
              "      <td>2</td>\n",
              "      <td>1</td>\n",
              "      <td>0</td>\n",
              "      <td>1</td>\n",
              "    </tr>\n",
              "  </tbody>\n",
              "</table>\n",
              "</div>"
            ],
            "text/plain": [
              "   Atr1  Atr2  Atr3  Atr4  Atr5  ...  Atr51  Atr52  Atr53  Atr54  Target\n",
              "0     2     2     4     1     0  ...      2      3      2      1       1\n",
              "1     4     4     4     4     4  ...      4      4      2      2       1\n",
              "2     2     2     2     2     1  ...      1      2      2      2       1\n",
              "3     3     2     3     2     3  ...      3      2      2      2       1\n",
              "4     2     2     1     1     1  ...      2      2      1      0       1\n",
              "\n",
              "[5 rows x 55 columns]"
            ]
          },
          "metadata": {
            "tags": []
          },
          "execution_count": 4
        }
      ]
    },
    {
      "cell_type": "code",
      "metadata": {
        "id": "MQ786KYULUpF",
        "colab_type": "code",
        "colab": {
          "base_uri": "https://localhost:8080/",
          "height": 317
        },
        "outputId": "19d66900-40d0-4215-ceff-a5978a941905"
      },
      "source": [
        "df.describe()\n",
        "#we can infer that total data point is 170\n",
        "#from mean of each attribute we can get an overview of how people rated these attribute\n",
        "#Since mean of Target is 0.494118 we can conclude that the divorce rate is 49.4118%"
      ],
      "execution_count": 5,
      "outputs": [
        {
          "output_type": "execute_result",
          "data": {
            "text/html": [
              "<div>\n",
              "<style scoped>\n",
              "    .dataframe tbody tr th:only-of-type {\n",
              "        vertical-align: middle;\n",
              "    }\n",
              "\n",
              "    .dataframe tbody tr th {\n",
              "        vertical-align: top;\n",
              "    }\n",
              "\n",
              "    .dataframe thead th {\n",
              "        text-align: right;\n",
              "    }\n",
              "</style>\n",
              "<table border=\"1\" class=\"dataframe\">\n",
              "  <thead>\n",
              "    <tr style=\"text-align: right;\">\n",
              "      <th></th>\n",
              "      <th>Atr1</th>\n",
              "      <th>Atr2</th>\n",
              "      <th>Atr3</th>\n",
              "      <th>Atr4</th>\n",
              "      <th>Atr5</th>\n",
              "      <th>Atr6</th>\n",
              "      <th>Atr7</th>\n",
              "      <th>Atr8</th>\n",
              "      <th>Atr9</th>\n",
              "      <th>Atr10</th>\n",
              "      <th>Atr11</th>\n",
              "      <th>Atr12</th>\n",
              "      <th>Atr13</th>\n",
              "      <th>Atr14</th>\n",
              "      <th>Atr15</th>\n",
              "      <th>Atr16</th>\n",
              "      <th>Atr17</th>\n",
              "      <th>Atr18</th>\n",
              "      <th>Atr19</th>\n",
              "      <th>Atr20</th>\n",
              "      <th>Atr21</th>\n",
              "      <th>Atr22</th>\n",
              "      <th>Atr23</th>\n",
              "      <th>Atr24</th>\n",
              "      <th>Atr25</th>\n",
              "      <th>Atr26</th>\n",
              "      <th>Atr27</th>\n",
              "      <th>Atr28</th>\n",
              "      <th>Atr29</th>\n",
              "      <th>Atr30</th>\n",
              "      <th>Atr31</th>\n",
              "      <th>Atr32</th>\n",
              "      <th>Atr33</th>\n",
              "      <th>Atr34</th>\n",
              "      <th>Atr35</th>\n",
              "      <th>Atr36</th>\n",
              "      <th>Atr37</th>\n",
              "      <th>Atr38</th>\n",
              "      <th>Atr39</th>\n",
              "      <th>Atr40</th>\n",
              "      <th>Atr41</th>\n",
              "      <th>Atr42</th>\n",
              "      <th>Atr43</th>\n",
              "      <th>Atr44</th>\n",
              "      <th>Atr45</th>\n",
              "      <th>Atr46</th>\n",
              "      <th>Atr47</th>\n",
              "      <th>Atr48</th>\n",
              "      <th>Atr49</th>\n",
              "      <th>Atr50</th>\n",
              "      <th>Atr51</th>\n",
              "      <th>Atr52</th>\n",
              "      <th>Atr53</th>\n",
              "      <th>Atr54</th>\n",
              "      <th>Target</th>\n",
              "    </tr>\n",
              "  </thead>\n",
              "  <tbody>\n",
              "    <tr>\n",
              "      <th>count</th>\n",
              "      <td>170.000000</td>\n",
              "      <td>170.000000</td>\n",
              "      <td>170.000000</td>\n",
              "      <td>170.000000</td>\n",
              "      <td>170.000000</td>\n",
              "      <td>170.000000</td>\n",
              "      <td>170.000000</td>\n",
              "      <td>170.000000</td>\n",
              "      <td>170.000000</td>\n",
              "      <td>170.000000</td>\n",
              "      <td>170.000000</td>\n",
              "      <td>170.000000</td>\n",
              "      <td>170.000000</td>\n",
              "      <td>170.000000</td>\n",
              "      <td>170.000000</td>\n",
              "      <td>170.000000</td>\n",
              "      <td>170.000000</td>\n",
              "      <td>170.000000</td>\n",
              "      <td>170.000000</td>\n",
              "      <td>170.000000</td>\n",
              "      <td>170.000000</td>\n",
              "      <td>170.000000</td>\n",
              "      <td>170.000000</td>\n",
              "      <td>170.000000</td>\n",
              "      <td>170.000000</td>\n",
              "      <td>170.000000</td>\n",
              "      <td>170.000000</td>\n",
              "      <td>170.000000</td>\n",
              "      <td>170.000000</td>\n",
              "      <td>170.000000</td>\n",
              "      <td>170.000000</td>\n",
              "      <td>170.000000</td>\n",
              "      <td>170.000000</td>\n",
              "      <td>170.000000</td>\n",
              "      <td>170.000000</td>\n",
              "      <td>170.000000</td>\n",
              "      <td>170.000000</td>\n",
              "      <td>170.000000</td>\n",
              "      <td>170.000000</td>\n",
              "      <td>170.000000</td>\n",
              "      <td>170.000000</td>\n",
              "      <td>170.000000</td>\n",
              "      <td>170.000000</td>\n",
              "      <td>170.000000</td>\n",
              "      <td>170.000000</td>\n",
              "      <td>170.000000</td>\n",
              "      <td>170.000000</td>\n",
              "      <td>170.000000</td>\n",
              "      <td>170.000000</td>\n",
              "      <td>170.000000</td>\n",
              "      <td>170.000000</td>\n",
              "      <td>170.000000</td>\n",
              "      <td>170.000000</td>\n",
              "      <td>170.000000</td>\n",
              "      <td>170.000000</td>\n",
              "    </tr>\n",
              "    <tr>\n",
              "      <th>mean</th>\n",
              "      <td>1.776471</td>\n",
              "      <td>1.652941</td>\n",
              "      <td>1.764706</td>\n",
              "      <td>1.482353</td>\n",
              "      <td>1.541176</td>\n",
              "      <td>0.747059</td>\n",
              "      <td>0.494118</td>\n",
              "      <td>1.452941</td>\n",
              "      <td>1.458824</td>\n",
              "      <td>1.576471</td>\n",
              "      <td>1.688235</td>\n",
              "      <td>1.652941</td>\n",
              "      <td>1.835294</td>\n",
              "      <td>1.570588</td>\n",
              "      <td>1.570588</td>\n",
              "      <td>1.476471</td>\n",
              "      <td>1.652941</td>\n",
              "      <td>1.517647</td>\n",
              "      <td>1.641176</td>\n",
              "      <td>1.458824</td>\n",
              "      <td>1.388235</td>\n",
              "      <td>1.247059</td>\n",
              "      <td>1.411765</td>\n",
              "      <td>1.511765</td>\n",
              "      <td>1.629412</td>\n",
              "      <td>1.488235</td>\n",
              "      <td>1.400000</td>\n",
              "      <td>1.305882</td>\n",
              "      <td>1.494118</td>\n",
              "      <td>1.494118</td>\n",
              "      <td>2.123529</td>\n",
              "      <td>2.058824</td>\n",
              "      <td>1.805882</td>\n",
              "      <td>1.900000</td>\n",
              "      <td>1.670588</td>\n",
              "      <td>1.605882</td>\n",
              "      <td>2.088235</td>\n",
              "      <td>1.858824</td>\n",
              "      <td>2.088235</td>\n",
              "      <td>1.870588</td>\n",
              "      <td>1.994118</td>\n",
              "      <td>2.158824</td>\n",
              "      <td>2.705882</td>\n",
              "      <td>1.941176</td>\n",
              "      <td>2.458824</td>\n",
              "      <td>2.552941</td>\n",
              "      <td>2.270588</td>\n",
              "      <td>2.741176</td>\n",
              "      <td>2.382353</td>\n",
              "      <td>2.429412</td>\n",
              "      <td>2.476471</td>\n",
              "      <td>2.517647</td>\n",
              "      <td>2.241176</td>\n",
              "      <td>2.011765</td>\n",
              "      <td>0.494118</td>\n",
              "    </tr>\n",
              "    <tr>\n",
              "      <th>std</th>\n",
              "      <td>1.627257</td>\n",
              "      <td>1.468654</td>\n",
              "      <td>1.415444</td>\n",
              "      <td>1.504327</td>\n",
              "      <td>1.632169</td>\n",
              "      <td>0.904046</td>\n",
              "      <td>0.898698</td>\n",
              "      <td>1.546371</td>\n",
              "      <td>1.557976</td>\n",
              "      <td>1.421529</td>\n",
              "      <td>1.647082</td>\n",
              "      <td>1.468654</td>\n",
              "      <td>1.478421</td>\n",
              "      <td>1.502765</td>\n",
              "      <td>1.506697</td>\n",
              "      <td>1.504246</td>\n",
              "      <td>1.614512</td>\n",
              "      <td>1.565998</td>\n",
              "      <td>1.641027</td>\n",
              "      <td>1.554173</td>\n",
              "      <td>1.452149</td>\n",
              "      <td>1.446529</td>\n",
              "      <td>1.612041</td>\n",
              "      <td>1.504385</td>\n",
              "      <td>1.530079</td>\n",
              "      <td>1.500447</td>\n",
              "      <td>1.457078</td>\n",
              "      <td>1.467788</td>\n",
              "      <td>1.592315</td>\n",
              "      <td>1.504420</td>\n",
              "      <td>1.646955</td>\n",
              "      <td>1.623445</td>\n",
              "      <td>1.785202</td>\n",
              "      <td>1.630515</td>\n",
              "      <td>1.842228</td>\n",
              "      <td>1.798412</td>\n",
              "      <td>1.716051</td>\n",
              "      <td>1.734802</td>\n",
              "      <td>1.719496</td>\n",
              "      <td>1.796039</td>\n",
              "      <td>1.721761</td>\n",
              "      <td>1.574034</td>\n",
              "      <td>1.348447</td>\n",
              "      <td>1.684267</td>\n",
              "      <td>1.499925</td>\n",
              "      <td>1.371786</td>\n",
              "      <td>1.586841</td>\n",
              "      <td>1.137348</td>\n",
              "      <td>1.511587</td>\n",
              "      <td>1.405090</td>\n",
              "      <td>1.260238</td>\n",
              "      <td>1.476537</td>\n",
              "      <td>1.505634</td>\n",
              "      <td>1.667611</td>\n",
              "      <td>0.501442</td>\n",
              "    </tr>\n",
              "    <tr>\n",
              "      <th>min</th>\n",
              "      <td>0.000000</td>\n",
              "      <td>0.000000</td>\n",
              "      <td>0.000000</td>\n",
              "      <td>0.000000</td>\n",
              "      <td>0.000000</td>\n",
              "      <td>0.000000</td>\n",
              "      <td>0.000000</td>\n",
              "      <td>0.000000</td>\n",
              "      <td>0.000000</td>\n",
              "      <td>0.000000</td>\n",
              "      <td>0.000000</td>\n",
              "      <td>0.000000</td>\n",
              "      <td>0.000000</td>\n",
              "      <td>0.000000</td>\n",
              "      <td>0.000000</td>\n",
              "      <td>0.000000</td>\n",
              "      <td>0.000000</td>\n",
              "      <td>0.000000</td>\n",
              "      <td>0.000000</td>\n",
              "      <td>0.000000</td>\n",
              "      <td>0.000000</td>\n",
              "      <td>0.000000</td>\n",
              "      <td>0.000000</td>\n",
              "      <td>0.000000</td>\n",
              "      <td>0.000000</td>\n",
              "      <td>0.000000</td>\n",
              "      <td>0.000000</td>\n",
              "      <td>0.000000</td>\n",
              "      <td>0.000000</td>\n",
              "      <td>0.000000</td>\n",
              "      <td>0.000000</td>\n",
              "      <td>0.000000</td>\n",
              "      <td>0.000000</td>\n",
              "      <td>0.000000</td>\n",
              "      <td>0.000000</td>\n",
              "      <td>0.000000</td>\n",
              "      <td>0.000000</td>\n",
              "      <td>0.000000</td>\n",
              "      <td>0.000000</td>\n",
              "      <td>0.000000</td>\n",
              "      <td>0.000000</td>\n",
              "      <td>0.000000</td>\n",
              "      <td>0.000000</td>\n",
              "      <td>0.000000</td>\n",
              "      <td>0.000000</td>\n",
              "      <td>0.000000</td>\n",
              "      <td>0.000000</td>\n",
              "      <td>0.000000</td>\n",
              "      <td>0.000000</td>\n",
              "      <td>0.000000</td>\n",
              "      <td>0.000000</td>\n",
              "      <td>0.000000</td>\n",
              "      <td>0.000000</td>\n",
              "      <td>0.000000</td>\n",
              "      <td>0.000000</td>\n",
              "    </tr>\n",
              "    <tr>\n",
              "      <th>25%</th>\n",
              "      <td>0.000000</td>\n",
              "      <td>0.000000</td>\n",
              "      <td>0.000000</td>\n",
              "      <td>0.000000</td>\n",
              "      <td>0.000000</td>\n",
              "      <td>0.000000</td>\n",
              "      <td>0.000000</td>\n",
              "      <td>0.000000</td>\n",
              "      <td>0.000000</td>\n",
              "      <td>0.000000</td>\n",
              "      <td>0.000000</td>\n",
              "      <td>0.000000</td>\n",
              "      <td>0.000000</td>\n",
              "      <td>0.000000</td>\n",
              "      <td>0.000000</td>\n",
              "      <td>0.000000</td>\n",
              "      <td>0.000000</td>\n",
              "      <td>0.000000</td>\n",
              "      <td>0.000000</td>\n",
              "      <td>0.000000</td>\n",
              "      <td>0.000000</td>\n",
              "      <td>0.000000</td>\n",
              "      <td>0.000000</td>\n",
              "      <td>0.000000</td>\n",
              "      <td>0.000000</td>\n",
              "      <td>0.000000</td>\n",
              "      <td>0.000000</td>\n",
              "      <td>0.000000</td>\n",
              "      <td>0.000000</td>\n",
              "      <td>0.000000</td>\n",
              "      <td>0.000000</td>\n",
              "      <td>0.000000</td>\n",
              "      <td>0.000000</td>\n",
              "      <td>0.000000</td>\n",
              "      <td>0.000000</td>\n",
              "      <td>0.000000</td>\n",
              "      <td>0.000000</td>\n",
              "      <td>0.000000</td>\n",
              "      <td>0.000000</td>\n",
              "      <td>0.000000</td>\n",
              "      <td>0.000000</td>\n",
              "      <td>0.000000</td>\n",
              "      <td>2.000000</td>\n",
              "      <td>0.000000</td>\n",
              "      <td>1.000000</td>\n",
              "      <td>2.000000</td>\n",
              "      <td>1.000000</td>\n",
              "      <td>2.000000</td>\n",
              "      <td>1.000000</td>\n",
              "      <td>1.000000</td>\n",
              "      <td>2.000000</td>\n",
              "      <td>1.000000</td>\n",
              "      <td>1.000000</td>\n",
              "      <td>0.000000</td>\n",
              "      <td>0.000000</td>\n",
              "    </tr>\n",
              "    <tr>\n",
              "      <th>50%</th>\n",
              "      <td>2.000000</td>\n",
              "      <td>2.000000</td>\n",
              "      <td>2.000000</td>\n",
              "      <td>1.000000</td>\n",
              "      <td>1.000000</td>\n",
              "      <td>0.000000</td>\n",
              "      <td>0.000000</td>\n",
              "      <td>1.000000</td>\n",
              "      <td>1.000000</td>\n",
              "      <td>2.000000</td>\n",
              "      <td>1.000000</td>\n",
              "      <td>1.500000</td>\n",
              "      <td>2.000000</td>\n",
              "      <td>1.000000</td>\n",
              "      <td>1.000000</td>\n",
              "      <td>1.000000</td>\n",
              "      <td>1.000000</td>\n",
              "      <td>1.000000</td>\n",
              "      <td>1.000000</td>\n",
              "      <td>1.000000</td>\n",
              "      <td>1.000000</td>\n",
              "      <td>0.000000</td>\n",
              "      <td>0.000000</td>\n",
              "      <td>1.000000</td>\n",
              "      <td>1.000000</td>\n",
              "      <td>1.000000</td>\n",
              "      <td>1.000000</td>\n",
              "      <td>0.500000</td>\n",
              "      <td>1.000000</td>\n",
              "      <td>1.000000</td>\n",
              "      <td>2.000000</td>\n",
              "      <td>2.000000</td>\n",
              "      <td>1.000000</td>\n",
              "      <td>1.000000</td>\n",
              "      <td>0.500000</td>\n",
              "      <td>0.000000</td>\n",
              "      <td>2.000000</td>\n",
              "      <td>1.000000</td>\n",
              "      <td>2.000000</td>\n",
              "      <td>1.500000</td>\n",
              "      <td>2.000000</td>\n",
              "      <td>2.000000</td>\n",
              "      <td>3.000000</td>\n",
              "      <td>2.000000</td>\n",
              "      <td>3.000000</td>\n",
              "      <td>3.000000</td>\n",
              "      <td>2.000000</td>\n",
              "      <td>3.000000</td>\n",
              "      <td>3.000000</td>\n",
              "      <td>2.000000</td>\n",
              "      <td>3.000000</td>\n",
              "      <td>3.000000</td>\n",
              "      <td>2.000000</td>\n",
              "      <td>2.000000</td>\n",
              "      <td>0.000000</td>\n",
              "    </tr>\n",
              "    <tr>\n",
              "      <th>75%</th>\n",
              "      <td>3.000000</td>\n",
              "      <td>3.000000</td>\n",
              "      <td>3.000000</td>\n",
              "      <td>3.000000</td>\n",
              "      <td>3.000000</td>\n",
              "      <td>1.000000</td>\n",
              "      <td>1.000000</td>\n",
              "      <td>3.000000</td>\n",
              "      <td>3.000000</td>\n",
              "      <td>3.000000</td>\n",
              "      <td>3.000000</td>\n",
              "      <td>3.000000</td>\n",
              "      <td>3.000000</td>\n",
              "      <td>3.000000</td>\n",
              "      <td>3.000000</td>\n",
              "      <td>3.000000</td>\n",
              "      <td>3.000000</td>\n",
              "      <td>3.000000</td>\n",
              "      <td>3.000000</td>\n",
              "      <td>3.000000</td>\n",
              "      <td>3.000000</td>\n",
              "      <td>3.000000</td>\n",
              "      <td>3.000000</td>\n",
              "      <td>3.000000</td>\n",
              "      <td>3.000000</td>\n",
              "      <td>3.000000</td>\n",
              "      <td>3.000000</td>\n",
              "      <td>3.000000</td>\n",
              "      <td>3.000000</td>\n",
              "      <td>3.000000</td>\n",
              "      <td>4.000000</td>\n",
              "      <td>4.000000</td>\n",
              "      <td>4.000000</td>\n",
              "      <td>4.000000</td>\n",
              "      <td>4.000000</td>\n",
              "      <td>4.000000</td>\n",
              "      <td>4.000000</td>\n",
              "      <td>4.000000</td>\n",
              "      <td>4.000000</td>\n",
              "      <td>4.000000</td>\n",
              "      <td>4.000000</td>\n",
              "      <td>4.000000</td>\n",
              "      <td>4.000000</td>\n",
              "      <td>4.000000</td>\n",
              "      <td>4.000000</td>\n",
              "      <td>4.000000</td>\n",
              "      <td>4.000000</td>\n",
              "      <td>4.000000</td>\n",
              "      <td>4.000000</td>\n",
              "      <td>4.000000</td>\n",
              "      <td>4.000000</td>\n",
              "      <td>4.000000</td>\n",
              "      <td>4.000000</td>\n",
              "      <td>4.000000</td>\n",
              "      <td>1.000000</td>\n",
              "    </tr>\n",
              "    <tr>\n",
              "      <th>max</th>\n",
              "      <td>4.000000</td>\n",
              "      <td>4.000000</td>\n",
              "      <td>4.000000</td>\n",
              "      <td>4.000000</td>\n",
              "      <td>4.000000</td>\n",
              "      <td>4.000000</td>\n",
              "      <td>4.000000</td>\n",
              "      <td>4.000000</td>\n",
              "      <td>4.000000</td>\n",
              "      <td>4.000000</td>\n",
              "      <td>4.000000</td>\n",
              "      <td>4.000000</td>\n",
              "      <td>4.000000</td>\n",
              "      <td>4.000000</td>\n",
              "      <td>4.000000</td>\n",
              "      <td>4.000000</td>\n",
              "      <td>4.000000</td>\n",
              "      <td>4.000000</td>\n",
              "      <td>4.000000</td>\n",
              "      <td>4.000000</td>\n",
              "      <td>4.000000</td>\n",
              "      <td>4.000000</td>\n",
              "      <td>4.000000</td>\n",
              "      <td>4.000000</td>\n",
              "      <td>4.000000</td>\n",
              "      <td>4.000000</td>\n",
              "      <td>4.000000</td>\n",
              "      <td>4.000000</td>\n",
              "      <td>4.000000</td>\n",
              "      <td>4.000000</td>\n",
              "      <td>4.000000</td>\n",
              "      <td>4.000000</td>\n",
              "      <td>4.000000</td>\n",
              "      <td>4.000000</td>\n",
              "      <td>4.000000</td>\n",
              "      <td>4.000000</td>\n",
              "      <td>4.000000</td>\n",
              "      <td>4.000000</td>\n",
              "      <td>4.000000</td>\n",
              "      <td>4.000000</td>\n",
              "      <td>4.000000</td>\n",
              "      <td>4.000000</td>\n",
              "      <td>4.000000</td>\n",
              "      <td>4.000000</td>\n",
              "      <td>4.000000</td>\n",
              "      <td>4.000000</td>\n",
              "      <td>4.000000</td>\n",
              "      <td>4.000000</td>\n",
              "      <td>4.000000</td>\n",
              "      <td>4.000000</td>\n",
              "      <td>4.000000</td>\n",
              "      <td>4.000000</td>\n",
              "      <td>4.000000</td>\n",
              "      <td>4.000000</td>\n",
              "      <td>1.000000</td>\n",
              "    </tr>\n",
              "  </tbody>\n",
              "</table>\n",
              "</div>"
            ],
            "text/plain": [
              "             Atr1        Atr2        Atr3  ...       Atr53       Atr54      Target\n",
              "count  170.000000  170.000000  170.000000  ...  170.000000  170.000000  170.000000\n",
              "mean     1.776471    1.652941    1.764706  ...    2.241176    2.011765    0.494118\n",
              "std      1.627257    1.468654    1.415444  ...    1.505634    1.667611    0.501442\n",
              "min      0.000000    0.000000    0.000000  ...    0.000000    0.000000    0.000000\n",
              "25%      0.000000    0.000000    0.000000  ...    1.000000    0.000000    0.000000\n",
              "50%      2.000000    2.000000    2.000000  ...    2.000000    2.000000    0.000000\n",
              "75%      3.000000    3.000000    3.000000  ...    4.000000    4.000000    1.000000\n",
              "max      4.000000    4.000000    4.000000  ...    4.000000    4.000000    1.000000\n",
              "\n",
              "[8 rows x 55 columns]"
            ]
          },
          "metadata": {
            "tags": []
          },
          "execution_count": 5
        }
      ]
    },
    {
      "cell_type": "code",
      "metadata": {
        "id": "DkuVTM-DLqQm",
        "colab_type": "code",
        "colab": {
          "base_uri": "https://localhost:8080/",
          "height": 969
        },
        "outputId": "01e25d50-8a1e-41db-9d90-d6b59cf6aa5a"
      },
      "source": [
        "df.corr()[\"Target\"]\n",
        "#We can check the relation of each attribute with Target(divorce)."
      ],
      "execution_count": 6,
      "outputs": [
        {
          "output_type": "execute_result",
          "data": {
            "text/plain": [
              "Atr1      0.861324\n",
              "Atr2      0.820774\n",
              "Atr3      0.806709\n",
              "Atr4      0.819583\n",
              "Atr5      0.893180\n",
              "Atr6      0.420913\n",
              "Atr7      0.544835\n",
              "Atr8      0.869569\n",
              "Atr9      0.912368\n",
              "Atr10     0.834897\n",
              "Atr11     0.918386\n",
              "Atr12     0.868983\n",
              "Atr13     0.844743\n",
              "Atr14     0.864316\n",
              "Atr15     0.901220\n",
              "Atr16     0.886260\n",
              "Atr17     0.929346\n",
              "Atr18     0.923208\n",
              "Atr19     0.928627\n",
              "Atr20     0.907008\n",
              "Atr21     0.864519\n",
              "Atr22     0.825938\n",
              "Atr23     0.837504\n",
              "Atr24     0.839392\n",
              "Atr25     0.857052\n",
              "Atr26     0.872868\n",
              "Atr27     0.869788\n",
              "Atr28     0.846606\n",
              "Atr29     0.892954\n",
              "Atr30     0.874531\n",
              "Atr31     0.792607\n",
              "Atr32     0.829056\n",
              "Atr33     0.861328\n",
              "Atr34     0.835167\n",
              "Atr35     0.862624\n",
              "Atr36     0.886497\n",
              "Atr37     0.863597\n",
              "Atr38     0.883311\n",
              "Atr39     0.896180\n",
              "Atr40     0.938684\n",
              "Atr41     0.894356\n",
              "Atr42     0.739629\n",
              "Atr43     0.566242\n",
              "Atr44     0.847336\n",
              "Atr45     0.546450\n",
              "Atr46     0.443465\n",
              "Atr47     0.656409\n",
              "Atr48     0.619830\n",
              "Atr49     0.740704\n",
              "Atr50     0.755248\n",
              "Atr51     0.692681\n",
              "Atr52     0.651478\n",
              "Atr53     0.711176\n",
              "Atr54     0.806765\n",
              "Target    1.000000\n",
              "Name: Target, dtype: float64"
            ]
          },
          "metadata": {
            "tags": []
          },
          "execution_count": 6
        }
      ]
    },
    {
      "cell_type": "code",
      "metadata": {
        "id": "LsvRLtWPLtFW",
        "colab_type": "code",
        "colab": {
          "base_uri": "https://localhost:8080/",
          "height": 474
        },
        "outputId": "07b039c3-e86b-483c-c9a8-64ffca597609"
      },
      "source": [
        "plt.figure(figsize=(8,4),dpi=120)\n",
        "sns.scatterplot(range(0,55),df.corr()[\"Target\"],color=\"red\")\n",
        "plt.xlabel(\"Attribute number\")\n",
        "#Since df.corr()[\"Target\"] is harder to comprehend we can plot a scatterplot to get an idea.\n",
        "#We can see how much each factor affect Target, higher value show more chance of divorce."
      ],
      "execution_count": 7,
      "outputs": [
        {
          "output_type": "execute_result",
          "data": {
            "text/plain": [
              "Text(0.5, 0, 'Attribute number')"
            ]
          },
          "metadata": {
            "tags": []
          },
          "execution_count": 7
        },
        {
          "output_type": "display_data",
          "data": {
            "image/png": "[encoded data removed]",
            "text/plain": [
              "<Figure size 960x480 with 1 Axes>"
            ]
          },
          "metadata": {
            "tags": []
          }
        }
      ]
    },
    {
      "cell_type": "code",
      "metadata": {
        "id": "rzMuXgmjLvOO",
        "colab_type": "code",
        "colab": {
          "base_uri": "https://localhost:8080/",
          "height": 296
        },
        "outputId": "efc0254a-427b-4765-85bc-f71348473a39"
      },
      "source": [
        "sns.countplot(df[\"Target\"])\n",
        "#we can see that both are nearly equal, that's what we obsered from 49.4118% divorce rate"
      ],
      "execution_count": 8,
      "outputs": [
        {
          "output_type": "execute_result",
          "data": {
            "text/plain": [
              "<matplotlib.axes._subplots.AxesSubplot at 0x7f7973976470>"
            ]
          },
          "metadata": {
            "tags": []
          },
          "execution_count": 8
        },
        {
          "output_type": "display_data",
          "data": {
            "image/png": "[encoded data removed]",
            "text/plain": [
              "<Figure size 432x288 with 1 Axes>"
            ]
          },
          "metadata": {
            "tags": []
          }
        }
      ]
    },
    {
      "cell_type": "code",
      "metadata": {
        "id": "6_AHAy6_Lxsm",
        "colab_type": "code",
        "colab": {}
      },
      "source": [
        "X = df.drop([\"Target\"],axis=1)\n",
        "y = df[\"Target\"]\n",
        "#seperate Target from factors affecting it"
      ],
      "execution_count": 0,
      "outputs": []
    },
    {
      "cell_type": "code",
      "metadata": {
        "id": "A1Gs8qOdLze3",
        "colab_type": "code",
        "colab": {}
      },
      "source": [
        "from sklearn.preprocessing import StandardScaler\n",
        "#import the standard scaler"
      ],
      "execution_count": 0,
      "outputs": []
    },
    {
      "cell_type": "code",
      "metadata": {
        "id": "uHh3-8ulL06m",
        "colab_type": "code",
        "colab": {}
      },
      "source": [
        "#scaler = StandardScaler()\n",
        "#Instantiate the scaler"
      ],
      "execution_count": 0,
      "outputs": []
    },
    {
      "cell_type": "code",
      "metadata": {
        "id": "1gmJ35HCL2Tm",
        "colab_type": "code",
        "colab": {}
      },
      "source": [
        "#scaler.fit(X)\n",
        "#Fit data on the scaler"
      ],
      "execution_count": 0,
      "outputs": []
    },
    {
      "cell_type": "code",
      "metadata": {
        "id": "hkd3GVHaL3pO",
        "colab_type": "code",
        "colab": {}
      },
      "source": [
        "#X=scaler.transform(X)\n",
        "#scale the X data"
      ],
      "execution_count": 0,
      "outputs": []
    },
    {
      "cell_type": "code",
      "metadata": {
        "id": "YPBv08nNL482",
        "colab_type": "code",
        "colab": {}
      },
      "source": [
        "#if the data is scaled then the input passed into the predictor should also be scaled first."
      ],
      "execution_count": 0,
      "outputs": []
    },
    {
      "cell_type": "code",
      "metadata": {
        "id": "wxpgFvrtL6Eu",
        "colab_type": "code",
        "colab": {}
      },
      "source": [
        "from sklearn.model_selection import train_test_split"
      ],
      "execution_count": 0,
      "outputs": []
    },
    {
      "cell_type": "code",
      "metadata": {
        "id": "fJKFmtsbL7PF",
        "colab_type": "code",
        "colab": {}
      },
      "source": [
        "X_train,X_test,y_train,y_test = train_test_split(X,y,test_size=0.35,random_state=51)\n",
        "#Split the data as testing and training data"
      ],
      "execution_count": 0,
      "outputs": []
    },
    {
      "cell_type": "code",
      "metadata": {
        "id": "LGYJWGdAPgfh",
        "colab_type": "code",
        "colab": {}
      },
      "source": [
        "scaler = StandardScaler()\n",
        "scaler.fit(X_train)\n",
        "X_train_s=scaler.transform(X_train)\n",
        "scaler.fit(X_test)\n",
        "X_test_s=scaler.fit(X_test)"
      ],
      "execution_count": 0,
      "outputs": []
    },
    {
      "cell_type": "code",
      "metadata": {
        "id": "cA-flsipL8ZF",
        "colab_type": "code",
        "colab": {}
      },
      "source": [
        "from sklearn.model_selection import GridSearchCV\n",
        "#Grid Search is used to find best parameters for a model"
      ],
      "execution_count": 0,
      "outputs": []
    },
    {
      "cell_type": "code",
      "metadata": {
        "id": "R3BMidzQL_ce",
        "colab_type": "code",
        "colab": {}
      },
      "source": [
        "from sklearn.metrics import classification_report, confusion_matrix\n",
        "#Used for getting scores and confusion matrix of model"
      ],
      "execution_count": 0,
      "outputs": []
    },
    {
      "cell_type": "code",
      "metadata": {
        "id": "FccrK_6fMCOV",
        "colab_type": "code",
        "colab": {}
      },
      "source": [
        "from sklearn.metrics import accuracy_score\n",
        "#Get the accuracy of the model"
      ],
      "execution_count": 0,
      "outputs": []
    },
    {
      "cell_type": "markdown",
      "metadata": {
        "id": "J2yXhhOVMFew",
        "colab_type": "text"
      },
      "source": [
        "**Principal Component Analysis**"
      ]
    },
    {
      "cell_type": "code",
      "metadata": {
        "id": "3eNQmNl_MF59",
        "colab_type": "code",
        "colab": {}
      },
      "source": [
        "from sklearn.decomposition import PCA"
      ],
      "execution_count": 0,
      "outputs": []
    },
    {
      "cell_type": "code",
      "metadata": {
        "id": "C3uQlN6rMIw9",
        "colab_type": "code",
        "colab": {}
      },
      "source": [
        "pca = PCA(n_components=4)"
      ],
      "execution_count": 0,
      "outputs": []
    },
    {
      "cell_type": "code",
      "metadata": {
        "id": "sKl7C7dyMJ4u",
        "colab_type": "code",
        "colab": {}
      },
      "source": [
        "pca.fit(X_train)\n",
        "X_train_p = pca.transform(X_train)\n",
        "pca.fit(X_test)\n",
        "X_test_p = pca.transform(X_test)"
      ],
      "execution_count": 0,
      "outputs": []
    },
    {
      "cell_type": "markdown",
      "metadata": {
        "id": "0GGHT1qDMM6Z",
        "colab_type": "text"
      },
      "source": [
        "**Logistic Regression Classifier**"
      ]
    },
    {
      "cell_type": "code",
      "metadata": {
        "id": "ZvNa8r9XMNrO",
        "colab_type": "code",
        "colab": {}
      },
      "source": [
        "from sklearn.linear_model import LogisticRegression\n",
        "#import the Logistic Regression Classifier"
      ],
      "execution_count": 0,
      "outputs": []
    },
    {
      "cell_type": "code",
      "metadata": {
        "id": "FOzI4HwLMRIu",
        "colab_type": "code",
        "colab": {}
      },
      "source": [
        "log = LogisticRegression()"
      ],
      "execution_count": 0,
      "outputs": []
    },
    {
      "cell_type": "code",
      "metadata": {
        "id": "KrnHxR_uMXkG",
        "colab_type": "code",
        "colab": {
          "base_uri": "https://localhost:8080/",
          "height": 102
        },
        "outputId": "b15a2914-03b9-4fc8-bcaf-640d841215ee"
      },
      "source": [
        "log.fit(X_train,y_train)"
      ],
      "execution_count": 26,
      "outputs": [
        {
          "output_type": "execute_result",
          "data": {
            "text/plain": [
              "LogisticRegression(C=1.0, class_weight=None, dual=False, fit_intercept=True,\n",
              "                   intercept_scaling=1, l1_ratio=None, max_iter=100,\n",
              "                   multi_class='auto', n_jobs=None, penalty='l2',\n",
              "                   random_state=None, solver='lbfgs', tol=0.0001, verbose=0,\n",
              "                   warm_start=False)"
            ]
          },
          "metadata": {
            "tags": []
          },
          "execution_count": 26
        }
      ]
    },
    {
      "cell_type": "code",
      "metadata": {
        "id": "DW5vLRe6MY9u",
        "colab_type": "code",
        "colab": {}
      },
      "source": [
        "pred_log = log.predict(X_test)"
      ],
      "execution_count": 0,
      "outputs": []
    },
    {
      "cell_type": "code",
      "metadata": {
        "id": "LJ-m2PYwMau2",
        "colab_type": "code",
        "colab": {
          "base_uri": "https://localhost:8080/",
          "height": 170
        },
        "outputId": "9edc39a5-cdb5-4d72-c9c6-dea26ceb2862"
      },
      "source": [
        "print(classification_report(y_test,pred_log))"
      ],
      "execution_count": 28,
      "outputs": [
        {
          "output_type": "stream",
          "text": [
            "              precision    recall  f1-score   support\n",
            "\n",
            "           0       0.97      1.00      0.98        30\n",
            "           1       1.00      0.97      0.98        30\n",
            "\n",
            "    accuracy                           0.98        60\n",
            "   macro avg       0.98      0.98      0.98        60\n",
            "weighted avg       0.98      0.98      0.98        60\n",
            "\n"
          ],
          "name": "stdout"
        }
      ]
    },
    {
      "cell_type": "code",
      "metadata": {
        "id": "HBmZBU4cMbt2",
        "colab_type": "code",
        "colab": {
          "base_uri": "https://localhost:8080/",
          "height": 51
        },
        "outputId": "f4f96ff6-c67a-4b12-c53a-f03dd3fbbbb4"
      },
      "source": [
        "confusion_matrix(y_test,pred_log)\n",
        "#This is actually a pretty good result with only 2 misclassifications."
      ],
      "execution_count": 29,
      "outputs": [
        {
          "output_type": "execute_result",
          "data": {
            "text/plain": [
              "array([[30,  0],\n",
              "       [ 1, 29]])"
            ]
          },
          "metadata": {
            "tags": []
          },
          "execution_count": 29
        }
      ]
    },
    {
      "cell_type": "code",
      "metadata": {
        "id": "IhwQYQUpMdWO",
        "colab_type": "code",
        "colab": {
          "base_uri": "https://localhost:8080/",
          "height": 34
        },
        "outputId": "a49f9b93-610c-46a8-f387-17cd1925e4d3"
      },
      "source": [
        "accuracy_score(y_test,pred_log)*100\n",
        "#This is the accuracy percentage of logistic regression model"
      ],
      "execution_count": 30,
      "outputs": [
        {
          "output_type": "execute_result",
          "data": {
            "text/plain": [
              "98.33333333333333"
            ]
          },
          "metadata": {
            "tags": []
          },
          "execution_count": 30
        }
      ]
    },
    {
      "cell_type": "code",
      "metadata": {
        "id": "AnhXZjDTMeg2",
        "colab_type": "code",
        "colab": {}
      },
      "source": [
        "params_grid_log = {\"C\":[0.1,1,10,100],\"tol\":[1,0.1,0.01,0.001,0.0001]}"
      ],
      "execution_count": 0,
      "outputs": []
    },
    {
      "cell_type": "code",
      "metadata": {
        "id": "90euEDoYMfwe",
        "colab_type": "code",
        "colab": {}
      },
      "source": [
        "grid_log = GridSearchCV(LogisticRegression(),params_grid_log,verbose=3)"
      ],
      "execution_count": 0,
      "outputs": []
    },
    {
      "cell_type": "code",
      "metadata": {
        "id": "hHj7KYfIMhvu",
        "colab_type": "code",
        "colab": {
          "base_uri": "https://localhost:8080/",
          "height": 1000
        },
        "outputId": "3872382d-12e3-4a19-d8b9-e1889172a34f"
      },
      "source": [
        "grid_log.fit(X_train,y_train)"
      ],
      "execution_count": 33,
      "outputs": [
        {
          "output_type": "stream",
          "text": [
            "Fitting 5 folds for each of 20 candidates, totalling 100 fits\n",
            "[CV] C=0.1, tol=1 ....................................................\n",
            "[CV] ........................ C=0.1, tol=1, score=0.955, total=   0.0s\n",
            "[CV] C=0.1, tol=1 ....................................................\n",
            "[CV] ........................ C=0.1, tol=1, score=0.955, total=   0.0s\n",
            "[CV] C=0.1, tol=1 ....................................................\n",
            "[CV] ........................ C=0.1, tol=1, score=0.955, total=   0.0s\n",
            "[CV] C=0.1, tol=1 ....................................................\n",
            "[CV] ........................ C=0.1, tol=1, score=1.000, total=   0.0s\n",
            "[CV] C=0.1, tol=1 ....................................................\n",
            "[CV] ........................ C=0.1, tol=1, score=1.000, total=   0.0s\n",
            "[CV] C=0.1, tol=0.1 ..................................................\n",
            "[CV] ...................... C=0.1, tol=0.1, score=0.955, total=   0.0s\n",
            "[CV] C=0.1, tol=0.1 ..................................................\n",
            "[CV] ...................... C=0.1, tol=0.1, score=0.955, total=   0.0s\n",
            "[CV] C=0.1, tol=0.1 ..................................................\n",
            "[CV] ...................... C=0.1, tol=0.1, score=0.955, total=   0.0s\n",
            "[CV] C=0.1, tol=0.1 ..................................................\n",
            "[CV] ...................... C=0.1, tol=0.1, score=1.000, total=   0.0s\n",
            "[CV] C=0.1, tol=0.1 ..................................................\n",
            "[CV] ...................... C=0.1, tol=0.1, score=1.000, total=   0.0s\n",
            "[CV] C=0.1, tol=0.01 .................................................\n",
            "[CV] ..................... C=0.1, tol=0.01, score=0.955, total=   0.0s\n",
            "[CV] C=0.1, tol=0.01 .................................................\n",
            "[CV] ..................... C=0.1, tol=0.01, score=0.955, total=   0.0s\n",
            "[CV] C=0.1, tol=0.01 .................................................\n",
            "[CV] ..................... C=0.1, tol=0.01, score=0.955, total=   0.0s\n",
            "[CV] C=0.1, tol=0.01 .................................................\n",
            "[CV] ..................... C=0.1, tol=0.01, score=1.000, total=   0.0s\n",
            "[CV] C=0.1, tol=0.01 .................................................\n",
            "[CV] ..................... C=0.1, tol=0.01, score=1.000, total=   0.0s\n",
            "[CV] C=0.1, tol=0.001 ................................................\n",
            "[CV] .................... C=0.1, tol=0.001, score=0.955, total=   0.0s\n",
            "[CV] C=0.1, tol=0.001 ................................................\n",
            "[CV] .................... C=0.1, tol=0.001, score=0.955, total=   0.0s\n",
            "[CV] C=0.1, tol=0.001 ................................................\n",
            "[CV] .................... C=0.1, tol=0.001, score=0.955, total=   0.0s\n",
            "[CV] C=0.1, tol=0.001 ................................................\n",
            "[CV] .................... C=0.1, tol=0.001, score=1.000, total=   0.0s\n",
            "[CV] C=0.1, tol=0.001 ................................................\n",
            "[CV] .................... C=0.1, tol=0.001, score=1.000, total=   0.0s\n",
            "[CV] C=0.1, tol=0.0001 ...............................................\n",
            "[CV] ................... C=0.1, tol=0.0001, score=0.955, total=   0.0s\n",
            "[CV] C=0.1, tol=0.0001 ...............................................\n"
          ],
          "name": "stdout"
        },
        {
          "output_type": "stream",
          "text": [
            "[Parallel(n_jobs=1)]: Using backend SequentialBackend with 1 concurrent workers.\n",
            "[Parallel(n_jobs=1)]: Done   1 out of   1 | elapsed:    0.0s remaining:    0.0s\n",
            "[Parallel(n_jobs=1)]: Done   2 out of   2 | elapsed:    0.0s remaining:    0.0s\n"
          ],
          "name": "stderr"
        },
        {
          "output_type": "stream",
          "text": [
            "[CV] ................... C=0.1, tol=0.0001, score=0.955, total=   0.0s\n",
            "[CV] C=0.1, tol=0.0001 ...............................................\n",
            "[CV] ................... C=0.1, tol=0.0001, score=0.955, total=   0.0s\n",
            "[CV] C=0.1, tol=0.0001 ...............................................\n",
            "[CV] ................... C=0.1, tol=0.0001, score=1.000, total=   0.0s\n",
            "[CV] C=0.1, tol=0.0001 ...............................................\n",
            "[CV] ................... C=0.1, tol=0.0001, score=1.000, total=   0.0s\n",
            "[CV] C=1, tol=1 ......................................................\n",
            "[CV] .......................... C=1, tol=1, score=0.955, total=   0.0s\n",
            "[CV] C=1, tol=1 ......................................................\n",
            "[CV] .......................... C=1, tol=1, score=0.909, total=   0.0s\n",
            "[CV] C=1, tol=1 ......................................................\n",
            "[CV] .......................... C=1, tol=1, score=0.955, total=   0.0s\n",
            "[CV] C=1, tol=1 ......................................................\n",
            "[CV] .......................... C=1, tol=1, score=1.000, total=   0.0s\n",
            "[CV] C=1, tol=1 ......................................................\n",
            "[CV] .......................... C=1, tol=1, score=1.000, total=   0.0s\n",
            "[CV] C=1, tol=0.1 ....................................................\n",
            "[CV] ........................ C=1, tol=0.1, score=0.955, total=   0.0s\n",
            "[CV] C=1, tol=0.1 ....................................................\n",
            "[CV] ........................ C=1, tol=0.1, score=0.955, total=   0.0s\n",
            "[CV] C=1, tol=0.1 ....................................................\n",
            "[CV] ........................ C=1, tol=0.1, score=0.955, total=   0.0s\n",
            "[CV] C=1, tol=0.1 ....................................................\n",
            "[CV] ........................ C=1, tol=0.1, score=1.000, total=   0.0s\n",
            "[CV] C=1, tol=0.1 ....................................................\n",
            "[CV] ........................ C=1, tol=0.1, score=1.000, total=   0.0s\n",
            "[CV] C=1, tol=0.01 ...................................................\n",
            "[CV] ....................... C=1, tol=0.01, score=0.955, total=   0.0s\n",
            "[CV] C=1, tol=0.01 ...................................................\n",
            "[CV] ....................... C=1, tol=0.01, score=0.955, total=   0.0s\n",
            "[CV] C=1, tol=0.01 ...................................................\n",
            "[CV] ....................... C=1, tol=0.01, score=0.955, total=   0.0s\n",
            "[CV] C=1, tol=0.01 ...................................................\n",
            "[CV] ....................... C=1, tol=0.01, score=1.000, total=   0.0s\n",
            "[CV] C=1, tol=0.01 ...................................................\n",
            "[CV] ....................... C=1, tol=0.01, score=1.000, total=   0.0s\n",
            "[CV] C=1, tol=0.001 ..................................................\n",
            "[CV] ...................... C=1, tol=0.001, score=0.955, total=   0.0s\n",
            "[CV] C=1, tol=0.001 ..................................................\n",
            "[CV] ...................... C=1, tol=0.001, score=0.955, total=   0.0s\n",
            "[CV] C=1, tol=0.001 ..................................................\n",
            "[CV] ...................... C=1, tol=0.001, score=0.955, total=   0.0s\n",
            "[CV] C=1, tol=0.001 ..................................................\n",
            "[CV] ...................... C=1, tol=0.001, score=1.000, total=   0.0s\n",
            "[CV] C=1, tol=0.001 ..................................................\n",
            "[CV] ...................... C=1, tol=0.001, score=1.000, total=   0.0s\n",
            "[CV] C=1, tol=0.0001 .................................................\n",
            "[CV] ..................... C=1, tol=0.0001, score=0.955, total=   0.0s\n",
            "[CV] C=1, tol=0.0001 .................................................\n",
            "[CV] ..................... C=1, tol=0.0001, score=0.955, total=   0.0s\n",
            "[CV] C=1, tol=0.0001 .................................................\n",
            "[CV] ..................... C=1, tol=0.0001, score=0.955, total=   0.0s\n",
            "[CV] C=1, tol=0.0001 .................................................\n",
            "[CV] ..................... C=1, tol=0.0001, score=1.000, total=   0.0s\n",
            "[CV] C=1, tol=0.0001 .................................................\n",
            "[CV] ..................... C=1, tol=0.0001, score=1.000, total=   0.0s\n",
            "[CV] C=10, tol=1 .....................................................\n",
            "[CV] ......................... C=10, tol=1, score=0.955, total=   0.0s\n",
            "[CV] C=10, tol=1 .....................................................\n",
            "[CV] ......................... C=10, tol=1, score=0.909, total=   0.0s\n",
            "[CV] C=10, tol=1 .....................................................\n",
            "[CV] ......................... C=10, tol=1, score=0.955, total=   0.0s\n",
            "[CV] C=10, tol=1 .....................................................\n",
            "[CV] ......................... C=10, tol=1, score=1.000, total=   0.0s\n",
            "[CV] C=10, tol=1 .....................................................\n",
            "[CV] ......................... C=10, tol=1, score=1.000, total=   0.0s\n",
            "[CV] C=10, tol=0.1 ...................................................\n",
            "[CV] ....................... C=10, tol=0.1, score=0.955, total=   0.0s\n",
            "[CV] C=10, tol=0.1 ...................................................\n",
            "[CV] ....................... C=10, tol=0.1, score=0.909, total=   0.0s\n",
            "[CV] C=10, tol=0.1 ...................................................\n",
            "[CV] ....................... C=10, tol=0.1, score=0.955, total=   0.0s\n",
            "[CV] C=10, tol=0.1 ...................................................\n",
            "[CV] ....................... C=10, tol=0.1, score=0.955, total=   0.0s\n",
            "[CV] C=10, tol=0.1 ...................................................\n",
            "[CV] ....................... C=10, tol=0.1, score=1.000, total=   0.0s\n",
            "[CV] C=10, tol=0.01 ..................................................\n",
            "[CV] ...................... C=10, tol=0.01, score=0.955, total=   0.0s\n",
            "[CV] C=10, tol=0.01 ..................................................\n",
            "[CV] ...................... C=10, tol=0.01, score=0.955, total=   0.0s\n",
            "[CV] C=10, tol=0.01 ..................................................\n",
            "[CV] ...................... C=10, tol=0.01, score=0.955, total=   0.0s\n",
            "[CV] C=10, tol=0.01 ..................................................\n",
            "[CV] ...................... C=10, tol=0.01, score=1.000, total=   0.0s\n",
            "[CV] C=10, tol=0.01 ..................................................\n",
            "[CV] ...................... C=10, tol=0.01, score=1.000, total=   0.0s\n",
            "[CV] C=10, tol=0.001 .................................................\n",
            "[CV] ..................... C=10, tol=0.001, score=0.955, total=   0.0s\n",
            "[CV] C=10, tol=0.001 .................................................\n",
            "[CV] ..................... C=10, tol=0.001, score=0.955, total=   0.0s\n",
            "[CV] C=10, tol=0.001 .................................................\n",
            "[CV] ..................... C=10, tol=0.001, score=0.955, total=   0.0s\n",
            "[CV] C=10, tol=0.001 .................................................\n",
            "[CV] ..................... C=10, tol=0.001, score=1.000, total=   0.0s\n",
            "[CV] C=10, tol=0.001 .................................................\n",
            "[CV] ..................... C=10, tol=0.001, score=1.000, total=   0.0s\n",
            "[CV] C=10, tol=0.0001 ................................................\n",
            "[CV] .................... C=10, tol=0.0001, score=0.955, total=   0.0s\n",
            "[CV] C=10, tol=0.0001 ................................................\n",
            "[CV] .................... C=10, tol=0.0001, score=0.955, total=   0.0s\n",
            "[CV] C=10, tol=0.0001 ................................................\n",
            "[CV] .................... C=10, tol=0.0001, score=0.955, total=   0.0s\n",
            "[CV] C=10, tol=0.0001 ................................................\n",
            "[CV] .................... C=10, tol=0.0001, score=1.000, total=   0.0s\n",
            "[CV] C=10, tol=0.0001 ................................................\n",
            "[CV] .................... C=10, tol=0.0001, score=1.000, total=   0.0s\n",
            "[CV] C=100, tol=1 ....................................................\n",
            "[CV] ........................ C=100, tol=1, score=0.955, total=   0.0s\n",
            "[CV] C=100, tol=1 ....................................................\n",
            "[CV] ........................ C=100, tol=1, score=0.909, total=   0.0s\n",
            "[CV] C=100, tol=1 ....................................................\n",
            "[CV] ........................ C=100, tol=1, score=0.955, total=   0.0s\n",
            "[CV] C=100, tol=1 ....................................................\n",
            "[CV] ........................ C=100, tol=1, score=1.000, total=   0.0s\n",
            "[CV] C=100, tol=1 ....................................................\n",
            "[CV] ........................ C=100, tol=1, score=1.000, total=   0.0s\n",
            "[CV] C=100, tol=0.1 ..................................................\n",
            "[CV] ...................... C=100, tol=0.1, score=0.955, total=   0.0s\n",
            "[CV] C=100, tol=0.1 ..................................................\n",
            "[CV] ...................... C=100, tol=0.1, score=0.909, total=   0.0s\n",
            "[CV] C=100, tol=0.1 ..................................................\n",
            "[CV] ...................... C=100, tol=0.1, score=0.955, total=   0.0s\n",
            "[CV] C=100, tol=0.1 ..................................................\n",
            "[CV] ...................... C=100, tol=0.1, score=0.955, total=   0.0s\n",
            "[CV] C=100, tol=0.1 ..................................................\n",
            "[CV] ...................... C=100, tol=0.1, score=1.000, total=   0.0s\n",
            "[CV] C=100, tol=0.01 .................................................\n",
            "[CV] ..................... C=100, tol=0.01, score=0.955, total=   0.0s\n",
            "[CV] C=100, tol=0.01 .................................................\n",
            "[CV] ..................... C=100, tol=0.01, score=0.909, total=   0.0s\n",
            "[CV] C=100, tol=0.01 .................................................\n",
            "[CV] ..................... C=100, tol=0.01, score=0.955, total=   0.0s\n",
            "[CV] C=100, tol=0.01 .................................................\n",
            "[CV] ..................... C=100, tol=0.01, score=1.000, total=   0.0s\n",
            "[CV] C=100, tol=0.01 .................................................\n",
            "[CV] ..................... C=100, tol=0.01, score=1.000, total=   0.0s\n",
            "[CV] C=100, tol=0.001 ................................................\n",
            "[CV] .................... C=100, tol=0.001, score=0.955, total=   0.0s\n",
            "[CV] C=100, tol=0.001 ................................................\n",
            "[CV] .................... C=100, tol=0.001, score=0.955, total=   0.0s\n",
            "[CV] C=100, tol=0.001 ................................................\n",
            "[CV] .................... C=100, tol=0.001, score=0.955, total=   0.0s\n",
            "[CV] C=100, tol=0.001 ................................................\n",
            "[CV] .................... C=100, tol=0.001, score=1.000, total=   0.0s\n",
            "[CV] C=100, tol=0.001 ................................................\n",
            "[CV] .................... C=100, tol=0.001, score=1.000, total=   0.0s\n",
            "[CV] C=100, tol=0.0001 ...............................................\n",
            "[CV] ................... C=100, tol=0.0001, score=0.955, total=   0.0s\n",
            "[CV] C=100, tol=0.0001 ...............................................\n",
            "[CV] ................... C=100, tol=0.0001, score=0.955, total=   0.0s\n",
            "[CV] C=100, tol=0.0001 ...............................................\n",
            "[CV] ................... C=100, tol=0.0001, score=0.955, total=   0.0s\n",
            "[CV] C=100, tol=0.0001 ...............................................\n",
            "[CV] ................... C=100, tol=0.0001, score=1.000, total=   0.0s\n",
            "[CV] C=100, tol=0.0001 ...............................................\n",
            "[CV] ................... C=100, tol=0.0001, score=1.000, total=   0.0s\n"
          ],
          "name": "stdout"
        },
        {
          "output_type": "stream",
          "text": [
            "[Parallel(n_jobs=1)]: Done 100 out of 100 | elapsed:    1.1s finished\n"
          ],
          "name": "stderr"
        },
        {
          "output_type": "execute_result",
          "data": {
            "text/plain": [
              "GridSearchCV(cv=None, error_score=nan,\n",
              "             estimator=LogisticRegression(C=1.0, class_weight=None, dual=False,\n",
              "                                          fit_intercept=True,\n",
              "                                          intercept_scaling=1, l1_ratio=None,\n",
              "                                          max_iter=100, multi_class='auto',\n",
              "                                          n_jobs=None, penalty='l2',\n",
              "                                          random_state=None, solver='lbfgs',\n",
              "                                          tol=0.0001, verbose=0,\n",
              "                                          warm_start=False),\n",
              "             iid='deprecated', n_jobs=None,\n",
              "             param_grid={'C': [0.1, 1, 10, 100],\n",
              "                         'tol': [1, 0.1, 0.01, 0.001, 0.0001]},\n",
              "             pre_dispatch='2*n_jobs', refit=True, return_train_score=False,\n",
              "             scoring=None, verbose=3)"
            ]
          },
          "metadata": {
            "tags": []
          },
          "execution_count": 33
        }
      ]
    },
    {
      "cell_type": "code",
      "metadata": {
        "id": "Eij1r_f7Mi9m",
        "colab_type": "code",
        "colab": {
          "base_uri": "https://localhost:8080/",
          "height": 34
        },
        "outputId": "1ab38c98-1059-477d-96b1-01cbfadf6bc4"
      },
      "source": [
        "grid_log.best_params_\n",
        "#best parameters for getting max accuracy"
      ],
      "execution_count": 34,
      "outputs": [
        {
          "output_type": "execute_result",
          "data": {
            "text/plain": [
              "{'C': 0.1, 'tol': 1}"
            ]
          },
          "metadata": {
            "tags": []
          },
          "execution_count": 34
        }
      ]
    },
    {
      "cell_type": "code",
      "metadata": {
        "id": "DYlHof_gMlQm",
        "colab_type": "code",
        "colab": {}
      },
      "source": [
        "pred_log_grid = grid_log.predict(X_test)\n",
        "#predicting using best parameters"
      ],
      "execution_count": 0,
      "outputs": []
    },
    {
      "cell_type": "code",
      "metadata": {
        "id": "eotKcuwkMmp-",
        "colab_type": "code",
        "colab": {
          "base_uri": "https://localhost:8080/",
          "height": 34
        },
        "outputId": "f8fdb05a-574a-4c58-ebd6-44618a311aab"
      },
      "source": [
        "accuracy_score(y_test,pred_log_grid)\n",
        "#No increase in accuracy, which isn't actually a bad thing.\n",
        "#Atleast the model didn't try to overfit the data."
      ],
      "execution_count": 36,
      "outputs": [
        {
          "output_type": "execute_result",
          "data": {
            "text/plain": [
              "0.9833333333333333"
            ]
          },
          "metadata": {
            "tags": []
          },
          "execution_count": 36
        }
      ]
    },
    {
      "cell_type": "code",
      "metadata": {
        "id": "6QvR1HyyMo-n",
        "colab_type": "code",
        "colab": {
          "base_uri": "https://localhost:8080/",
          "height": 102
        },
        "outputId": "d58b37f9-f647-4187-81eb-7fa609243c04"
      },
      "source": [
        "log.fit(X_train_p,y_train)"
      ],
      "execution_count": 37,
      "outputs": [
        {
          "output_type": "execute_result",
          "data": {
            "text/plain": [
              "LogisticRegression(C=1.0, class_weight=None, dual=False, fit_intercept=True,\n",
              "                   intercept_scaling=1, l1_ratio=None, max_iter=100,\n",
              "                   multi_class='auto', n_jobs=None, penalty='l2',\n",
              "                   random_state=None, solver='lbfgs', tol=0.0001, verbose=0,\n",
              "                   warm_start=False)"
            ]
          },
          "metadata": {
            "tags": []
          },
          "execution_count": 37
        }
      ]
    },
    {
      "cell_type": "code",
      "metadata": {
        "id": "w_xmHzhoMqlm",
        "colab_type": "code",
        "colab": {}
      },
      "source": [
        "pred_log_p=log.predict(X_test_p)"
      ],
      "execution_count": 0,
      "outputs": []
    },
    {
      "cell_type": "code",
      "metadata": {
        "id": "XQt63_2iMsJV",
        "colab_type": "code",
        "colab": {
          "base_uri": "https://localhost:8080/",
          "height": 34
        },
        "outputId": "eb3a7d2b-8f15-4b52-fd2c-0ef10eeeaf34"
      },
      "source": [
        "accuracy_score(y_test,pred_log_p)"
      ],
      "execution_count": 39,
      "outputs": [
        {
          "output_type": "execute_result",
          "data": {
            "text/plain": [
              "1.0"
            ]
          },
          "metadata": {
            "tags": []
          },
          "execution_count": 39
        }
      ]
    },
    {
      "cell_type": "code",
      "metadata": {
        "id": "CLNT3AY3Mtme",
        "colab_type": "code",
        "colab": {
          "base_uri": "https://localhost:8080/",
          "height": 170
        },
        "outputId": "5a6df0cd-a2a1-4866-bb83-af7b292ae411"
      },
      "source": [
        "print(classification_report(y_test,pred_log_p))"
      ],
      "execution_count": 40,
      "outputs": [
        {
          "output_type": "stream",
          "text": [
            "              precision    recall  f1-score   support\n",
            "\n",
            "           0       1.00      1.00      1.00        30\n",
            "           1       1.00      1.00      1.00        30\n",
            "\n",
            "    accuracy                           1.00        60\n",
            "   macro avg       1.00      1.00      1.00        60\n",
            "weighted avg       1.00      1.00      1.00        60\n",
            "\n"
          ],
          "name": "stdout"
        }
      ]
    },
    {
      "cell_type": "code",
      "metadata": {
        "id": "VL6vBXtTMutu",
        "colab_type": "code",
        "colab": {
          "base_uri": "https://localhost:8080/",
          "height": 51
        },
        "outputId": "d9705e52-cd6c-4bd6-92a4-2725298367a6"
      },
      "source": [
        "confusion_matrix(y_test,pred_log_p)"
      ],
      "execution_count": 41,
      "outputs": [
        {
          "output_type": "execute_result",
          "data": {
            "text/plain": [
              "array([[30,  0],\n",
              "       [ 0, 30]])"
            ]
          },
          "metadata": {
            "tags": []
          },
          "execution_count": 41
        }
      ]
    },
    {
      "cell_type": "code",
      "metadata": {
        "id": "3jiPbw2QNSZA",
        "colab_type": "code",
        "colab": {}
      },
      "source": [
        "#Great !!!!!! We acheived 100% accuracy\n",
        "#Here we can observe that accuracy has increased after using PCA\n",
        "#Its not always neccesary that PCA increases accuracy it actually reduces computing time."
      ],
      "execution_count": 0,
      "outputs": []
    },
    {
      "cell_type": "markdown",
      "metadata": {
        "id": "Y8DyNYI1NpP7",
        "colab_type": "text"
      },
      "source": [
        "**K Nearest Neighbour Classifier**"
      ]
    },
    {
      "cell_type": "code",
      "metadata": {
        "id": "edAxoLEbNp1u",
        "colab_type": "code",
        "colab": {}
      },
      "source": [
        "from sklearn.neighbors import KNeighborsClassifier"
      ],
      "execution_count": 0,
      "outputs": []
    },
    {
      "cell_type": "code",
      "metadata": {
        "id": "qKHI-A-8NrvG",
        "colab_type": "code",
        "colab": {}
      },
      "source": [
        "knn = KNeighborsClassifier()\n",
        "#for now let \"k\" be default"
      ],
      "execution_count": 0,
      "outputs": []
    },
    {
      "cell_type": "code",
      "metadata": {
        "id": "dj0HDZtbNtxG",
        "colab_type": "code",
        "colab": {
          "base_uri": "https://localhost:8080/",
          "height": 68
        },
        "outputId": "ebf722f9-1d4c-49a6-9336-b188393d96e9"
      },
      "source": [
        "knn.fit(X_train,y_train)"
      ],
      "execution_count": 45,
      "outputs": [
        {
          "output_type": "execute_result",
          "data": {
            "text/plain": [
              "KNeighborsClassifier(algorithm='auto', leaf_size=30, metric='minkowski',\n",
              "                     metric_params=None, n_jobs=None, n_neighbors=5, p=2,\n",
              "                     weights='uniform')"
            ]
          },
          "metadata": {
            "tags": []
          },
          "execution_count": 45
        }
      ]
    },
    {
      "cell_type": "code",
      "metadata": {
        "id": "qlFcjybHNvA2",
        "colab_type": "code",
        "colab": {}
      },
      "source": [
        "pred_knn = knn.predict(X_test)"
      ],
      "execution_count": 0,
      "outputs": []
    },
    {
      "cell_type": "code",
      "metadata": {
        "id": "lqLca8ZVNwXu",
        "colab_type": "code",
        "colab": {
          "base_uri": "https://localhost:8080/",
          "height": 170
        },
        "outputId": "791f1c51-37a5-4252-9bc0-783fb7f798ee"
      },
      "source": [
        "print(classification_report(y_test,pred_knn))"
      ],
      "execution_count": 47,
      "outputs": [
        {
          "output_type": "stream",
          "text": [
            "              precision    recall  f1-score   support\n",
            "\n",
            "           0       0.97      1.00      0.98        30\n",
            "           1       1.00      0.97      0.98        30\n",
            "\n",
            "    accuracy                           0.98        60\n",
            "   macro avg       0.98      0.98      0.98        60\n",
            "weighted avg       0.98      0.98      0.98        60\n",
            "\n"
          ],
          "name": "stdout"
        }
      ]
    },
    {
      "cell_type": "code",
      "metadata": {
        "id": "ehC4IEqHNx0u",
        "colab_type": "code",
        "colab": {}
      },
      "source": [
        "#lets try to optimise this model"
      ],
      "execution_count": 0,
      "outputs": []
    },
    {
      "cell_type": "code",
      "metadata": {
        "id": "t46h0Z2BNzeG",
        "colab_type": "code",
        "colab": {}
      },
      "source": [
        "error_rate=[]\n",
        "for i in range(1,51):\n",
        "    knn_op=KNeighborsClassifier(n_neighbors=i)\n",
        "    knn_op.fit(X_train,y_train)\n",
        "    pred_i=knn_op.predict(X_test)\n",
        "    error_rate.append(np.mean(pred_i != y_test))"
      ],
      "execution_count": 0,
      "outputs": []
    },
    {
      "cell_type": "code",
      "metadata": {
        "id": "SwoONqx-N0yG",
        "colab_type": "code",
        "colab": {
          "base_uri": "https://localhost:8080/",
          "height": 312
        },
        "outputId": "c36737e7-fa30-4afc-cb0f-93b6109ab515"
      },
      "source": [
        "plt.figure(figsize=(8,4))\n",
        "plt.plot(range(1,51),error_rate, color=\"blue\", linestyle=\"--\", marker=\"o\", markersize=10, markerfacecolor=\"red\")\n",
        "plt.title(\"Error rate vs K value\")\n",
        "plt.xlabel(\"K\")\n",
        "plt.ylabel(\"Error rate\")"
      ],
      "execution_count": 50,
      "outputs": [
        {
          "output_type": "execute_result",
          "data": {
            "text/plain": [
              "Text(0, 0.5, 'Error rate')"
            ]
          },
          "metadata": {
            "tags": []
          },
          "execution_count": 50
        },
        {
          "output_type": "display_data",
          "data": {
            "image/png": "[encoded data removed]",
            "text/plain": [
              "<Figure size 576x288 with 1 Axes>"
            ]
          },
          "metadata": {
            "tags": []
          }
        }
      ]
    },
    {
      "cell_type": "code",
      "metadata": {
        "id": "97bPIwPaN2YG",
        "colab_type": "code",
        "colab": {
          "base_uri": "https://localhost:8080/",
          "height": 34
        },
        "outputId": "8a0faf1a-2113-4577-9920-92fc3fa78e6f"
      },
      "source": [
        "accuracy_score(y_test,pred_knn)"
      ],
      "execution_count": 51,
      "outputs": [
        {
          "output_type": "execute_result",
          "data": {
            "text/plain": [
              "0.9833333333333333"
            ]
          },
          "metadata": {
            "tags": []
          },
          "execution_count": 51
        }
      ]
    },
    {
      "cell_type": "code",
      "metadata": {
        "id": "ESWlHNVvN4N-",
        "colab_type": "code",
        "colab": {}
      },
      "source": [
        "#from above we can infer that the accuracy isn't really changing with \"k\" value.\n",
        "#Most of the times, almost every time it changes and we pick the \"k\" with least error."
      ],
      "execution_count": 0,
      "outputs": []
    },
    {
      "cell_type": "code",
      "metadata": {
        "id": "Xzs8YwLCN6G3",
        "colab_type": "code",
        "colab": {
          "base_uri": "https://localhost:8080/",
          "height": 170
        },
        "outputId": "c0c85d5b-8b88-4bd1-9964-6cee22de3bdb"
      },
      "source": [
        "#Using PCA data\n",
        "knn.fit(X_train_p,y_train)\n",
        "pred_knn_p = knn.predict(X_test_p)\n",
        "print(classification_report(y_test,pred_knn_p))"
      ],
      "execution_count": 53,
      "outputs": [
        {
          "output_type": "stream",
          "text": [
            "              precision    recall  f1-score   support\n",
            "\n",
            "           0       0.97      1.00      0.98        30\n",
            "           1       1.00      0.97      0.98        30\n",
            "\n",
            "    accuracy                           0.98        60\n",
            "   macro avg       0.98      0.98      0.98        60\n",
            "weighted avg       0.98      0.98      0.98        60\n",
            "\n"
          ],
          "name": "stdout"
        }
      ]
    },
    {
      "cell_type": "code",
      "metadata": {
        "id": "z6XsEJ9rN8ZW",
        "colab_type": "code",
        "colab": {}
      },
      "source": [
        "from sklearn.ensemble import RandomForestClassifier"
      ],
      "execution_count": 0,
      "outputs": []
    },
    {
      "cell_type": "code",
      "metadata": {
        "id": "IEy1jJWxN-Ke",
        "colab_type": "code",
        "colab": {}
      },
      "source": [
        "rtree = RandomForestClassifier(n_estimators=400)"
      ],
      "execution_count": 0,
      "outputs": []
    },
    {
      "cell_type": "code",
      "metadata": {
        "id": "lMWz8z1CN_RO",
        "colab_type": "code",
        "colab": {
          "base_uri": "https://localhost:8080/",
          "height": 153
        },
        "outputId": "7330c2b4-0603-480d-911c-a9cffba2377e"
      },
      "source": [
        "rtree.fit(X_train,y_train)"
      ],
      "execution_count": 56,
      "outputs": [
        {
          "output_type": "execute_result",
          "data": {
            "text/plain": [
              "RandomForestClassifier(bootstrap=True, ccp_alpha=0.0, class_weight=None,\n",
              "                       criterion='gini', max_depth=None, max_features='auto',\n",
              "                       max_leaf_nodes=None, max_samples=None,\n",
              "                       min_impurity_decrease=0.0, min_impurity_split=None,\n",
              "                       min_samples_leaf=1, min_samples_split=2,\n",
              "                       min_weight_fraction_leaf=0.0, n_estimators=400,\n",
              "                       n_jobs=None, oob_score=False, random_state=None,\n",
              "                       verbose=0, warm_start=False)"
            ]
          },
          "metadata": {
            "tags": []
          },
          "execution_count": 56
        }
      ]
    },
    {
      "cell_type": "code",
      "metadata": {
        "id": "3-V2F3BsOAaO",
        "colab_type": "code",
        "colab": {}
      },
      "source": [
        "pred_rtee = rtree.predict(X_test)"
      ],
      "execution_count": 0,
      "outputs": []
    },
    {
      "cell_type": "code",
      "metadata": {
        "id": "aE4oPaCQOBvW",
        "colab_type": "code",
        "colab": {
          "base_uri": "https://localhost:8080/",
          "height": 34
        },
        "outputId": "a2e9b964-6292-4210-f1d9-2d4c1afdc0bc"
      },
      "source": [
        "accuracy_score(y_test,pred_rtee)"
      ],
      "execution_count": 58,
      "outputs": [
        {
          "output_type": "execute_result",
          "data": {
            "text/plain": [
              "0.9833333333333333"
            ]
          },
          "metadata": {
            "tags": []
          },
          "execution_count": 58
        }
      ]
    },
    {
      "cell_type": "code",
      "metadata": {
        "id": "S1Tm0ceBOC7u",
        "colab_type": "code",
        "colab": {}
      },
      "source": [
        "from sklearn.svm import SVC"
      ],
      "execution_count": 0,
      "outputs": []
    },
    {
      "cell_type": "code",
      "metadata": {
        "id": "Trt2tcUGOE1u",
        "colab_type": "code",
        "colab": {}
      },
      "source": [
        "svc = SVC()"
      ],
      "execution_count": 0,
      "outputs": []
    },
    {
      "cell_type": "code",
      "metadata": {
        "id": "GVIMbTlOOF-W",
        "colab_type": "code",
        "colab": {
          "base_uri": "https://localhost:8080/",
          "height": 85
        },
        "outputId": "97984ef1-d781-42f6-c5fa-d26afbfbb7c6"
      },
      "source": [
        "svc.fit(X_train,y_train)"
      ],
      "execution_count": 61,
      "outputs": [
        {
          "output_type": "execute_result",
          "data": {
            "text/plain": [
              "SVC(C=1.0, break_ties=False, cache_size=200, class_weight=None, coef0=0.0,\n",
              "    decision_function_shape='ovr', degree=3, gamma='scale', kernel='rbf',\n",
              "    max_iter=-1, probability=False, random_state=None, shrinking=True,\n",
              "    tol=0.001, verbose=False)"
            ]
          },
          "metadata": {
            "tags": []
          },
          "execution_count": 61
        }
      ]
    },
    {
      "cell_type": "code",
      "metadata": {
        "id": "9Jy2a0KMOHAH",
        "colab_type": "code",
        "colab": {}
      },
      "source": [
        "pred_svc = svc.predict(X_test)"
      ],
      "execution_count": 0,
      "outputs": []
    },
    {
      "cell_type": "code",
      "metadata": {
        "id": "i3EhSv01OIFu",
        "colab_type": "code",
        "colab": {
          "base_uri": "https://localhost:8080/",
          "height": 34
        },
        "outputId": "fc3b37b6-9699-4401-f00a-6926783f0255"
      },
      "source": [
        "accuracy_score(y_test,pred_svc)"
      ],
      "execution_count": 63,
      "outputs": [
        {
          "output_type": "execute_result",
          "data": {
            "text/plain": [
              "0.9833333333333333"
            ]
          },
          "metadata": {
            "tags": []
          },
          "execution_count": 63
        }
      ]
    },
    {
      "cell_type": "markdown",
      "metadata": {
        "id": "UNVRXIN5OM1U",
        "colab_type": "text"
      },
      "source": [
        "**Naive Bayes**"
      ]
    },
    {
      "cell_type": "code",
      "metadata": {
        "id": "ASte4g7sOKxG",
        "colab_type": "code",
        "colab": {}
      },
      "source": [
        "from sklearn.naive_bayes import GaussianNB"
      ],
      "execution_count": 0,
      "outputs": []
    },
    {
      "cell_type": "code",
      "metadata": {
        "id": "QkKfGn2DORr-",
        "colab_type": "code",
        "colab": {}
      },
      "source": [
        "nb = GaussianNB()"
      ],
      "execution_count": 0,
      "outputs": []
    },
    {
      "cell_type": "code",
      "metadata": {
        "id": "jcq51hFXOTWm",
        "colab_type": "code",
        "colab": {
          "base_uri": "https://localhost:8080/",
          "height": 34
        },
        "outputId": "7945ecfd-aea1-4adf-a826-5bc564ef37c6"
      },
      "source": [
        "nb.fit(X_train,y_train)"
      ],
      "execution_count": 66,
      "outputs": [
        {
          "output_type": "execute_result",
          "data": {
            "text/plain": [
              "GaussianNB(priors=None, var_smoothing=1e-09)"
            ]
          },
          "metadata": {
            "tags": []
          },
          "execution_count": 66
        }
      ]
    },
    {
      "cell_type": "code",
      "metadata": {
        "id": "FKhAuhrYOU0u",
        "colab_type": "code",
        "colab": {}
      },
      "source": [
        "pred_nb = nb.predict(X_test)"
      ],
      "execution_count": 0,
      "outputs": []
    },
    {
      "cell_type": "code",
      "metadata": {
        "id": "6IH7ImkDOV8m",
        "colab_type": "code",
        "colab": {
          "base_uri": "https://localhost:8080/",
          "height": 170
        },
        "outputId": "3b21c3b7-2bb5-44c6-8b14-15850077b714"
      },
      "source": [
        "print(classification_report(y_test,pred_nb))"
      ],
      "execution_count": 68,
      "outputs": [
        {
          "output_type": "stream",
          "text": [
            "              precision    recall  f1-score   support\n",
            "\n",
            "           0       0.97      1.00      0.98        30\n",
            "           1       1.00      0.97      0.98        30\n",
            "\n",
            "    accuracy                           0.98        60\n",
            "   macro avg       0.98      0.98      0.98        60\n",
            "weighted avg       0.98      0.98      0.98        60\n",
            "\n"
          ],
          "name": "stdout"
        }
      ]
    },
    {
      "cell_type": "markdown",
      "metadata": {
        "id": "LDWmWcSYOZHi",
        "colab_type": "text"
      },
      "source": [
        "**Artificial Neural Networks (ANN)**"
      ]
    },
    {
      "cell_type": "code",
      "metadata": {
        "id": "OErWoYbnOZhO",
        "colab_type": "code",
        "colab": {
          "base_uri": "https://localhost:8080/",
          "height": 63
        },
        "outputId": "42a595e8-b3af-487c-cae7-79d7b819bead"
      },
      "source": [
        "from tensorflow.keras.models import Sequential"
      ],
      "execution_count": 69,
      "outputs": [
        {
          "output_type": "display_data",
          "data": {
            "text/html": [
              "<p style=\"color: red;\">\n",
              "The default version of TensorFlow in Colab will soon switch to TensorFlow 2.x.<br>\n",
              "We recommend you <a href=\"https://www.tensorflow.org/guide/migrate\" target=\"_blank\">upgrade</a> now \n",
              "or ensure your notebook will continue to use TensorFlow 1.x via the <code>%tensorflow_version 1.x</code> magic:\n",
              "<a href=\"https://colab.research.google.com/notebooks/tensorflow_version.ipynb\" target=\"_blank\">more info</a>.</p>\n"
            ],
            "text/plain": [
              "<IPython.core.display.HTML object>"
            ]
          },
          "metadata": {
            "tags": []
          }
        }
      ]
    },
    {
      "cell_type": "code",
      "metadata": {
        "id": "ojZOVWEMOcPW",
        "colab_type": "code",
        "colab": {}
      },
      "source": [
        "from tensorflow.keras.layers import Dense"
      ],
      "execution_count": 0,
      "outputs": []
    },
    {
      "cell_type": "code",
      "metadata": {
        "id": "_cZGwxk-Op4e",
        "colab_type": "code",
        "colab": {}
      },
      "source": [
        "ann = Sequential()"
      ],
      "execution_count": 0,
      "outputs": []
    },
    {
      "cell_type": "code",
      "metadata": {
        "id": "K9yhYMLWOrPm",
        "colab_type": "code",
        "colab": {}
      },
      "source": [
        "ann.add(Dense(6,activation='relu'))\n",
        "ann.add(Dense(20,activation='relu'))\n",
        "ann.add(Dense(6,activation='relu'))\n",
        "#adding layers to the model\n",
        "\n",
        "ann.add(Dense(1))\n",
        "\n",
        "ann.compile(optimizer='adam',loss='mse', metrics=[\"accuracy\"])\n",
        "#minimizes loss \"msle\""
      ],
      "execution_count": 0,
      "outputs": []
    },
    {
      "cell_type": "code",
      "metadata": {
        "id": "LPrmzefdOsae",
        "colab_type": "code",
        "colab": {
          "base_uri": "https://localhost:8080/",
          "height": 1000
        },
        "outputId": "737a3a63-f1af-4ef9-b6e5-2c36f487ad53"
      },
      "source": [
        "ann.fit(x=X_train_s,y=y_train.values,epochs=250,verbose=1)"
      ],
      "execution_count": 73,
      "outputs": [
        {
          "output_type": "stream",
          "text": [
            "WARNING:tensorflow:From /usr/local/lib/python3.6/dist-packages/tensorflow_core/python/ops/resource_variable_ops.py:1630: calling BaseResourceVariable.__init__ (from tensorflow.python.ops.resource_variable_ops) with constraint is deprecated and will be removed in a future version.\n",
            "Instructions for updating:\n",
            "If using Keras pass *_constraint arguments to layers.\n",
            "Train on 110 samples\n",
            "Epoch 1/250\n",
            "110/110 [==============================] - 0s 817us/sample - loss: 0.6245 - acc: 0.5091\n",
            "Epoch 2/250\n",
            "110/110 [==============================] - 0s 133us/sample - loss: 0.5334 - acc: 0.5091\n",
            "Epoch 3/250\n",
            "110/110 [==============================] - 0s 93us/sample - loss: 0.4569 - acc: 0.5091\n",
            "Epoch 4/250\n",
            "110/110 [==============================] - 0s 82us/sample - loss: 0.3919 - acc: 0.5091\n",
            "Epoch 5/250\n",
            "110/110 [==============================] - 0s 106us/sample - loss: 0.3325 - acc: 0.5091\n",
            "Epoch 6/250\n",
            "110/110 [==============================] - 0s 89us/sample - loss: 0.2741 - acc: 0.5091\n",
            "Epoch 7/250\n",
            "110/110 [==============================] - 0s 96us/sample - loss: 0.2205 - acc: 0.5636\n",
            "Epoch 8/250\n",
            "110/110 [==============================] - 0s 112us/sample - loss: 0.1688 - acc: 0.7455\n",
            "Epoch 9/250\n",
            "110/110 [==============================] - 0s 110us/sample - loss: 0.1250 - acc: 0.8364\n",
            "Epoch 10/250\n",
            "110/110 [==============================] - 0s 113us/sample - loss: 0.0897 - acc: 0.9182\n",
            "Epoch 11/250\n",
            "110/110 [==============================] - 0s 99us/sample - loss: 0.0669 - acc: 0.9273\n",
            "Epoch 12/250\n",
            "110/110 [==============================] - 0s 85us/sample - loss: 0.0538 - acc: 0.9545\n",
            "Epoch 13/250\n",
            "110/110 [==============================] - 0s 88us/sample - loss: 0.0508 - acc: 0.9545\n",
            "Epoch 14/250\n",
            "110/110 [==============================] - 0s 92us/sample - loss: 0.0513 - acc: 0.9636\n",
            "Epoch 15/250\n",
            "110/110 [==============================] - 0s 103us/sample - loss: 0.0522 - acc: 0.9636\n",
            "Epoch 16/250\n",
            "110/110 [==============================] - 0s 100us/sample - loss: 0.0514 - acc: 0.9636\n",
            "Epoch 17/250\n",
            "110/110 [==============================] - 0s 119us/sample - loss: 0.0493 - acc: 0.9636\n",
            "Epoch 18/250\n",
            "110/110 [==============================] - 0s 123us/sample - loss: 0.0469 - acc: 0.9636\n",
            "Epoch 19/250\n",
            "110/110 [==============================] - 0s 123us/sample - loss: 0.0454 - acc: 0.9636\n",
            "Epoch 20/250\n",
            "110/110 [==============================] - 0s 117us/sample - loss: 0.0442 - acc: 0.9636\n",
            "Epoch 21/250\n",
            "110/110 [==============================] - 0s 105us/sample - loss: 0.0438 - acc: 0.9636\n",
            "Epoch 22/250\n",
            "110/110 [==============================] - 0s 101us/sample - loss: 0.0432 - acc: 0.9636\n",
            "Epoch 23/250\n",
            "110/110 [==============================] - 0s 110us/sample - loss: 0.0424 - acc: 0.9636\n",
            "Epoch 24/250\n",
            "110/110 [==============================] - 0s 101us/sample - loss: 0.0414 - acc: 0.9636\n",
            "Epoch 25/250\n",
            "110/110 [==============================] - 0s 88us/sample - loss: 0.0407 - acc: 0.9636\n",
            "Epoch 26/250\n",
            "110/110 [==============================] - 0s 108us/sample - loss: 0.0400 - acc: 0.9636\n",
            "Epoch 27/250\n",
            "110/110 [==============================] - 0s 96us/sample - loss: 0.0392 - acc: 0.9636\n",
            "Epoch 28/250\n",
            "110/110 [==============================] - 0s 105us/sample - loss: 0.0387 - acc: 0.9636\n",
            "Epoch 29/250\n",
            "110/110 [==============================] - 0s 115us/sample - loss: 0.0381 - acc: 0.9636\n",
            "Epoch 30/250\n",
            "110/110 [==============================] - 0s 99us/sample - loss: 0.0375 - acc: 0.9636\n",
            "Epoch 31/250\n",
            "110/110 [==============================] - 0s 114us/sample - loss: 0.0369 - acc: 0.9636\n",
            "Epoch 32/250\n",
            "110/110 [==============================] - 0s 120us/sample - loss: 0.0363 - acc: 0.9636\n",
            "Epoch 33/250\n",
            "110/110 [==============================] - 0s 98us/sample - loss: 0.0358 - acc: 0.9727\n",
            "Epoch 34/250\n",
            "110/110 [==============================] - 0s 82us/sample - loss: 0.0352 - acc: 0.9727\n",
            "Epoch 35/250\n",
            "110/110 [==============================] - 0s 109us/sample - loss: 0.0346 - acc: 0.9727\n",
            "Epoch 36/250\n",
            "110/110 [==============================] - 0s 117us/sample - loss: 0.0341 - acc: 0.9727\n",
            "Epoch 37/250\n",
            "110/110 [==============================] - 0s 124us/sample - loss: 0.0338 - acc: 0.9727\n",
            "Epoch 38/250\n",
            "110/110 [==============================] - 0s 144us/sample - loss: 0.0332 - acc: 0.9727\n",
            "Epoch 39/250\n",
            "110/110 [==============================] - 0s 100us/sample - loss: 0.0328 - acc: 0.9727\n",
            "Epoch 40/250\n",
            "110/110 [==============================] - 0s 113us/sample - loss: 0.0324 - acc: 0.9727\n",
            "Epoch 41/250\n",
            "110/110 [==============================] - 0s 195us/sample - loss: 0.0320 - acc: 0.9727\n",
            "Epoch 42/250\n",
            "110/110 [==============================] - 0s 84us/sample - loss: 0.0316 - acc: 0.9727\n",
            "Epoch 43/250\n",
            "110/110 [==============================] - 0s 108us/sample - loss: 0.0312 - acc: 0.9727\n",
            "Epoch 44/250\n",
            "110/110 [==============================] - 0s 111us/sample - loss: 0.0309 - acc: 0.9727\n",
            "Epoch 45/250\n",
            "110/110 [==============================] - 0s 111us/sample - loss: 0.0305 - acc: 0.9727\n",
            "Epoch 46/250\n",
            "110/110 [==============================] - 0s 106us/sample - loss: 0.0300 - acc: 0.9727\n",
            "Epoch 47/250\n",
            "110/110 [==============================] - 0s 113us/sample - loss: 0.0296 - acc: 0.9727\n",
            "Epoch 48/250\n",
            "110/110 [==============================] - 0s 75us/sample - loss: 0.0291 - acc: 0.9727\n",
            "Epoch 49/250\n",
            "110/110 [==============================] - 0s 85us/sample - loss: 0.0287 - acc: 0.9727\n",
            "Epoch 50/250\n",
            "110/110 [==============================] - 0s 87us/sample - loss: 0.0283 - acc: 0.9727\n",
            "Epoch 51/250\n",
            "110/110 [==============================] - 0s 100us/sample - loss: 0.0279 - acc: 0.9727\n",
            "Epoch 52/250\n",
            "110/110 [==============================] - 0s 85us/sample - loss: 0.0276 - acc: 0.9727\n",
            "Epoch 53/250\n",
            "110/110 [==============================] - 0s 118us/sample - loss: 0.0272 - acc: 0.9727\n",
            "Epoch 54/250\n",
            "110/110 [==============================] - 0s 113us/sample - loss: 0.0268 - acc: 0.9727\n",
            "Epoch 55/250\n",
            "110/110 [==============================] - 0s 128us/sample - loss: 0.0264 - acc: 0.9727\n",
            "Epoch 56/250\n",
            "110/110 [==============================] - 0s 110us/sample - loss: 0.0259 - acc: 0.9727\n",
            "Epoch 57/250\n",
            "110/110 [==============================] - 0s 97us/sample - loss: 0.0255 - acc: 0.9727\n",
            "Epoch 58/250\n",
            "110/110 [==============================] - 0s 98us/sample - loss: 0.0252 - acc: 0.9727\n",
            "Epoch 59/250\n",
            "110/110 [==============================] - 0s 92us/sample - loss: 0.0248 - acc: 0.9727\n",
            "Epoch 60/250\n",
            "110/110 [==============================] - 0s 91us/sample - loss: 0.0244 - acc: 0.9727\n",
            "Epoch 61/250\n",
            "110/110 [==============================] - 0s 96us/sample - loss: 0.0240 - acc: 0.9727\n",
            "Epoch 62/250\n",
            "110/110 [==============================] - 0s 94us/sample - loss: 0.0236 - acc: 0.9727\n",
            "Epoch 63/250\n",
            "110/110 [==============================] - 0s 92us/sample - loss: 0.0232 - acc: 0.9727\n",
            "Epoch 64/250\n",
            "110/110 [==============================] - 0s 105us/sample - loss: 0.0228 - acc: 0.9727\n",
            "Epoch 65/250\n",
            "110/110 [==============================] - 0s 103us/sample - loss: 0.0224 - acc: 0.9727\n",
            "Epoch 66/250\n",
            "110/110 [==============================] - 0s 99us/sample - loss: 0.0219 - acc: 0.9727\n",
            "Epoch 67/250\n",
            "110/110 [==============================] - 0s 116us/sample - loss: 0.0214 - acc: 0.9727\n",
            "Epoch 68/250\n",
            "110/110 [==============================] - 0s 129us/sample - loss: 0.0210 - acc: 0.9727\n",
            "Epoch 69/250\n",
            "110/110 [==============================] - 0s 105us/sample - loss: 0.0204 - acc: 0.9727\n",
            "Epoch 70/250\n",
            "110/110 [==============================] - 0s 98us/sample - loss: 0.0200 - acc: 0.9727\n",
            "Epoch 71/250\n",
            "110/110 [==============================] - 0s 108us/sample - loss: 0.0196 - acc: 0.9727\n",
            "Epoch 72/250\n",
            "110/110 [==============================] - 0s 104us/sample - loss: 0.0191 - acc: 0.9727\n",
            "Epoch 73/250\n",
            "110/110 [==============================] - 0s 112us/sample - loss: 0.0187 - acc: 0.9727\n",
            "Epoch 74/250\n",
            "110/110 [==============================] - 0s 113us/sample - loss: 0.0183 - acc: 0.9727\n",
            "Epoch 75/250\n",
            "110/110 [==============================] - 0s 106us/sample - loss: 0.0178 - acc: 0.9727\n",
            "Epoch 76/250\n",
            "110/110 [==============================] - 0s 96us/sample - loss: 0.0175 - acc: 0.9727\n",
            "Epoch 77/250\n",
            "110/110 [==============================] - 0s 108us/sample - loss: 0.0170 - acc: 0.9727\n",
            "Epoch 78/250\n",
            "110/110 [==============================] - 0s 103us/sample - loss: 0.0166 - acc: 0.9727\n",
            "Epoch 79/250\n",
            "110/110 [==============================] - 0s 93us/sample - loss: 0.0162 - acc: 0.9727\n",
            "Epoch 80/250\n",
            "110/110 [==============================] - 0s 103us/sample - loss: 0.0158 - acc: 0.9727\n",
            "Epoch 81/250\n",
            "110/110 [==============================] - 0s 99us/sample - loss: 0.0155 - acc: 0.9727\n",
            "Epoch 82/250\n",
            "110/110 [==============================] - 0s 109us/sample - loss: 0.0151 - acc: 0.9727\n",
            "Epoch 83/250\n",
            "110/110 [==============================] - 0s 102us/sample - loss: 0.0148 - acc: 0.9727\n",
            "Epoch 84/250\n",
            "110/110 [==============================] - 0s 101us/sample - loss: 0.0144 - acc: 0.9727\n",
            "Epoch 85/250\n",
            "110/110 [==============================] - 0s 101us/sample - loss: 0.0141 - acc: 0.9727\n",
            "Epoch 86/250\n",
            "110/110 [==============================] - 0s 106us/sample - loss: 0.0137 - acc: 0.9727\n",
            "Epoch 87/250\n",
            "110/110 [==============================] - 0s 120us/sample - loss: 0.0134 - acc: 0.9727\n",
            "Epoch 88/250\n",
            "110/110 [==============================] - 0s 124us/sample - loss: 0.0130 - acc: 0.9818\n",
            "Epoch 89/250\n",
            "110/110 [==============================] - 0s 109us/sample - loss: 0.0127 - acc: 0.9818\n",
            "Epoch 90/250\n",
            "110/110 [==============================] - 0s 104us/sample - loss: 0.0124 - acc: 0.9818\n",
            "Epoch 91/250\n",
            "110/110 [==============================] - 0s 106us/sample - loss: 0.0121 - acc: 0.9818\n",
            "Epoch 92/250\n",
            "110/110 [==============================] - 0s 108us/sample - loss: 0.0119 - acc: 0.9818\n",
            "Epoch 93/250\n",
            "110/110 [==============================] - 0s 97us/sample - loss: 0.0116 - acc: 0.9909\n",
            "Epoch 94/250\n",
            "110/110 [==============================] - 0s 93us/sample - loss: 0.0114 - acc: 0.9909\n",
            "Epoch 95/250\n",
            "110/110 [==============================] - 0s 80us/sample - loss: 0.0110 - acc: 0.9909\n",
            "Epoch 96/250\n",
            "110/110 [==============================] - 0s 97us/sample - loss: 0.0107 - acc: 0.9909\n",
            "Epoch 97/250\n",
            "110/110 [==============================] - 0s 130us/sample - loss: 0.0104 - acc: 0.9909\n",
            "Epoch 98/250\n",
            "110/110 [==============================] - 0s 125us/sample - loss: 0.0103 - acc: 0.9909\n",
            "Epoch 99/250\n",
            "110/110 [==============================] - 0s 118us/sample - loss: 0.0100 - acc: 0.9909\n",
            "Epoch 100/250\n",
            "110/110 [==============================] - 0s 116us/sample - loss: 0.0097 - acc: 0.9909\n",
            "Epoch 101/250\n",
            "110/110 [==============================] - 0s 120us/sample - loss: 0.0095 - acc: 0.9909\n",
            "Epoch 102/250\n",
            "110/110 [==============================] - 0s 120us/sample - loss: 0.0092 - acc: 0.9909\n",
            "Epoch 103/250\n",
            "110/110 [==============================] - 0s 112us/sample - loss: 0.0090 - acc: 0.9909\n",
            "Epoch 104/250\n",
            "110/110 [==============================] - 0s 136us/sample - loss: 0.0089 - acc: 1.0000\n",
            "Epoch 105/250\n",
            "110/110 [==============================] - 0s 117us/sample - loss: 0.0086 - acc: 1.0000\n",
            "Epoch 106/250\n",
            "110/110 [==============================] - 0s 105us/sample - loss: 0.0085 - acc: 1.0000\n",
            "Epoch 107/250\n",
            "110/110 [==============================] - 0s 122us/sample - loss: 0.0082 - acc: 1.0000\n",
            "Epoch 108/250\n",
            "110/110 [==============================] - 0s 123us/sample - loss: 0.0080 - acc: 1.0000\n",
            "Epoch 109/250\n",
            "110/110 [==============================] - 0s 125us/sample - loss: 0.0079 - acc: 1.0000\n",
            "Epoch 110/250\n",
            "110/110 [==============================] - 0s 86us/sample - loss: 0.0077 - acc: 1.0000\n",
            "Epoch 111/250\n",
            "110/110 [==============================] - 0s 121us/sample - loss: 0.0075 - acc: 1.0000\n",
            "Epoch 112/250\n",
            "110/110 [==============================] - 0s 130us/sample - loss: 0.0073 - acc: 1.0000\n",
            "Epoch 113/250\n",
            "110/110 [==============================] - 0s 118us/sample - loss: 0.0072 - acc: 1.0000\n",
            "Epoch 114/250\n",
            "110/110 [==============================] - 0s 109us/sample - loss: 0.0070 - acc: 1.0000\n",
            "Epoch 115/250\n",
            "110/110 [==============================] - 0s 105us/sample - loss: 0.0068 - acc: 1.0000\n",
            "Epoch 116/250\n",
            "110/110 [==============================] - 0s 93us/sample - loss: 0.0067 - acc: 1.0000\n",
            "Epoch 117/250\n",
            "110/110 [==============================] - 0s 109us/sample - loss: 0.0065 - acc: 1.0000\n",
            "Epoch 118/250\n",
            "110/110 [==============================] - 0s 98us/sample - loss: 0.0064 - acc: 1.0000\n",
            "Epoch 119/250\n",
            "110/110 [==============================] - 0s 97us/sample - loss: 0.0063 - acc: 1.0000\n",
            "Epoch 120/250\n",
            "110/110 [==============================] - 0s 84us/sample - loss: 0.0061 - acc: 1.0000\n",
            "Epoch 121/250\n",
            "110/110 [==============================] - 0s 91us/sample - loss: 0.0060 - acc: 1.0000\n",
            "Epoch 122/250\n",
            "110/110 [==============================] - 0s 94us/sample - loss: 0.0058 - acc: 1.0000\n",
            "Epoch 123/250\n",
            "110/110 [==============================] - 0s 84us/sample - loss: 0.0057 - acc: 1.0000\n",
            "Epoch 124/250\n",
            "110/110 [==============================] - 0s 104us/sample - loss: 0.0056 - acc: 1.0000\n",
            "Epoch 125/250\n",
            "110/110 [==============================] - 0s 95us/sample - loss: 0.0054 - acc: 1.0000\n",
            "Epoch 126/250\n",
            "110/110 [==============================] - 0s 109us/sample - loss: 0.0053 - acc: 1.0000\n",
            "Epoch 127/250\n",
            "110/110 [==============================] - 0s 114us/sample - loss: 0.0052 - acc: 1.0000\n",
            "Epoch 128/250\n",
            "110/110 [==============================] - 0s 90us/sample - loss: 0.0051 - acc: 1.0000\n",
            "Epoch 129/250\n",
            "110/110 [==============================] - 0s 118us/sample - loss: 0.0050 - acc: 1.0000\n",
            "Epoch 130/250\n",
            "110/110 [==============================] - 0s 115us/sample - loss: 0.0049 - acc: 1.0000\n",
            "Epoch 131/250\n",
            "110/110 [==============================] - 0s 105us/sample - loss: 0.0048 - acc: 1.0000\n",
            "Epoch 132/250\n",
            "110/110 [==============================] - 0s 85us/sample - loss: 0.0047 - acc: 1.0000\n",
            "Epoch 133/250\n",
            "110/110 [==============================] - 0s 135us/sample - loss: 0.0046 - acc: 1.0000\n",
            "Epoch 134/250\n",
            "110/110 [==============================] - 0s 100us/sample - loss: 0.0045 - acc: 1.0000\n",
            "Epoch 135/250\n",
            "110/110 [==============================] - 0s 113us/sample - loss: 0.0044 - acc: 1.0000\n",
            "Epoch 136/250\n",
            "110/110 [==============================] - 0s 88us/sample - loss: 0.0043 - acc: 1.0000\n",
            "Epoch 137/250\n",
            "110/110 [==============================] - 0s 104us/sample - loss: 0.0043 - acc: 1.0000\n",
            "Epoch 138/250\n",
            "110/110 [==============================] - 0s 125us/sample - loss: 0.0042 - acc: 1.0000\n",
            "Epoch 139/250\n",
            "110/110 [==============================] - 0s 112us/sample - loss: 0.0042 - acc: 1.0000\n",
            "Epoch 140/250\n",
            "110/110 [==============================] - 0s 103us/sample - loss: 0.0041 - acc: 1.0000\n",
            "Epoch 141/250\n",
            "110/110 [==============================] - 0s 119us/sample - loss: 0.0040 - acc: 1.0000\n",
            "Epoch 142/250\n",
            "110/110 [==============================] - 0s 96us/sample - loss: 0.0039 - acc: 1.0000\n",
            "Epoch 143/250\n",
            "110/110 [==============================] - 0s 110us/sample - loss: 0.0039 - acc: 1.0000\n",
            "Epoch 144/250\n",
            "110/110 [==============================] - 0s 107us/sample - loss: 0.0038 - acc: 1.0000\n",
            "Epoch 145/250\n",
            "110/110 [==============================] - 0s 97us/sample - loss: 0.0038 - acc: 1.0000\n",
            "Epoch 146/250\n",
            "110/110 [==============================] - 0s 105us/sample - loss: 0.0037 - acc: 1.0000\n",
            "Epoch 147/250\n",
            "110/110 [==============================] - 0s 87us/sample - loss: 0.0036 - acc: 1.0000\n",
            "Epoch 148/250\n",
            "110/110 [==============================] - 0s 101us/sample - loss: 0.0036 - acc: 1.0000\n",
            "Epoch 149/250\n",
            "110/110 [==============================] - 0s 100us/sample - loss: 0.0035 - acc: 1.0000\n",
            "Epoch 150/250\n",
            "110/110 [==============================] - 0s 130us/sample - loss: 0.0034 - acc: 1.0000\n",
            "Epoch 151/250\n",
            "110/110 [==============================] - 0s 101us/sample - loss: 0.0034 - acc: 1.0000\n",
            "Epoch 152/250\n",
            "110/110 [==============================] - 0s 98us/sample - loss: 0.0033 - acc: 1.0000\n",
            "Epoch 153/250\n",
            "110/110 [==============================] - 0s 88us/sample - loss: 0.0033 - acc: 1.0000\n",
            "Epoch 154/250\n",
            "110/110 [==============================] - 0s 109us/sample - loss: 0.0033 - acc: 1.0000\n",
            "Epoch 155/250\n",
            "110/110 [==============================] - 0s 132us/sample - loss: 0.0032 - acc: 1.0000\n",
            "Epoch 156/250\n",
            "110/110 [==============================] - 0s 138us/sample - loss: 0.0031 - acc: 1.0000\n",
            "Epoch 157/250\n",
            "110/110 [==============================] - 0s 104us/sample - loss: 0.0031 - acc: 1.0000\n",
            "Epoch 158/250\n",
            "110/110 [==============================] - 0s 102us/sample - loss: 0.0030 - acc: 1.0000\n",
            "Epoch 159/250\n",
            "110/110 [==============================] - 0s 99us/sample - loss: 0.0030 - acc: 1.0000\n",
            "Epoch 160/250\n",
            "110/110 [==============================] - 0s 84us/sample - loss: 0.0029 - acc: 1.0000\n",
            "Epoch 161/250\n",
            "110/110 [==============================] - 0s 104us/sample - loss: 0.0029 - acc: 1.0000\n",
            "Epoch 162/250\n",
            "110/110 [==============================] - 0s 81us/sample - loss: 0.0028 - acc: 1.0000\n",
            "Epoch 163/250\n",
            "110/110 [==============================] - 0s 93us/sample - loss: 0.0028 - acc: 1.0000\n",
            "Epoch 164/250\n",
            "110/110 [==============================] - 0s 88us/sample - loss: 0.0028 - acc: 1.0000\n",
            "Epoch 165/250\n",
            "110/110 [==============================] - 0s 86us/sample - loss: 0.0027 - acc: 1.0000\n",
            "Epoch 166/250\n",
            "110/110 [==============================] - 0s 92us/sample - loss: 0.0027 - acc: 1.0000\n",
            "Epoch 167/250\n",
            "110/110 [==============================] - 0s 96us/sample - loss: 0.0026 - acc: 1.0000\n",
            "Epoch 168/250\n",
            "110/110 [==============================] - 0s 86us/sample - loss: 0.0026 - acc: 1.0000\n",
            "Epoch 169/250\n",
            "110/110 [==============================] - 0s 84us/sample - loss: 0.0026 - acc: 1.0000\n",
            "Epoch 170/250\n",
            "110/110 [==============================] - 0s 77us/sample - loss: 0.0025 - acc: 1.0000\n",
            "Epoch 171/250\n",
            "110/110 [==============================] - 0s 89us/sample - loss: 0.0025 - acc: 1.0000\n",
            "Epoch 172/250\n",
            "110/110 [==============================] - 0s 79us/sample - loss: 0.0025 - acc: 1.0000\n",
            "Epoch 173/250\n",
            "110/110 [==============================] - 0s 86us/sample - loss: 0.0024 - acc: 1.0000\n",
            "Epoch 174/250\n",
            "110/110 [==============================] - 0s 105us/sample - loss: 0.0024 - acc: 1.0000\n",
            "Epoch 175/250\n",
            "110/110 [==============================] - 0s 75us/sample - loss: 0.0024 - acc: 1.0000\n",
            "Epoch 176/250\n",
            "110/110 [==============================] - 0s 85us/sample - loss: 0.0023 - acc: 1.0000\n",
            "Epoch 177/250\n",
            "110/110 [==============================] - 0s 86us/sample - loss: 0.0023 - acc: 1.0000\n",
            "Epoch 178/250\n",
            "110/110 [==============================] - 0s 92us/sample - loss: 0.0023 - acc: 1.0000\n",
            "Epoch 179/250\n",
            "110/110 [==============================] - 0s 121us/sample - loss: 0.0022 - acc: 1.0000\n",
            "Epoch 180/250\n",
            "110/110 [==============================] - 0s 77us/sample - loss: 0.0022 - acc: 1.0000\n",
            "Epoch 181/250\n",
            "110/110 [==============================] - 0s 99us/sample - loss: 0.0022 - acc: 1.0000\n",
            "Epoch 182/250\n",
            "110/110 [==============================] - 0s 103us/sample - loss: 0.0022 - acc: 1.0000\n",
            "Epoch 183/250\n",
            "110/110 [==============================] - 0s 108us/sample - loss: 0.0022 - acc: 1.0000\n",
            "Epoch 184/250\n",
            "110/110 [==============================] - 0s 126us/sample - loss: 0.0021 - acc: 1.0000\n",
            "Epoch 185/250\n",
            "110/110 [==============================] - 0s 101us/sample - loss: 0.0021 - acc: 1.0000\n",
            "Epoch 186/250\n",
            "110/110 [==============================] - 0s 99us/sample - loss: 0.0021 - acc: 1.0000\n",
            "Epoch 187/250\n",
            "110/110 [==============================] - 0s 132us/sample - loss: 0.0020 - acc: 1.0000\n",
            "Epoch 188/250\n",
            "110/110 [==============================] - 0s 100us/sample - loss: 0.0020 - acc: 1.0000\n",
            "Epoch 189/250\n",
            "110/110 [==============================] - 0s 98us/sample - loss: 0.0020 - acc: 1.0000\n",
            "Epoch 190/250\n",
            "110/110 [==============================] - 0s 112us/sample - loss: 0.0020 - acc: 1.0000\n",
            "Epoch 191/250\n",
            "110/110 [==============================] - 0s 107us/sample - loss: 0.0020 - acc: 1.0000\n",
            "Epoch 192/250\n",
            "110/110 [==============================] - 0s 97us/sample - loss: 0.0020 - acc: 1.0000\n",
            "Epoch 193/250\n",
            "110/110 [==============================] - 0s 89us/sample - loss: 0.0019 - acc: 1.0000\n",
            "Epoch 194/250\n",
            "110/110 [==============================] - 0s 77us/sample - loss: 0.0019 - acc: 1.0000\n",
            "Epoch 195/250\n",
            "110/110 [==============================] - 0s 79us/sample - loss: 0.0019 - acc: 1.0000\n",
            "Epoch 196/250\n",
            "110/110 [==============================] - 0s 92us/sample - loss: 0.0019 - acc: 1.0000\n",
            "Epoch 197/250\n",
            "110/110 [==============================] - 0s 82us/sample - loss: 0.0018 - acc: 1.0000\n",
            "Epoch 198/250\n",
            "110/110 [==============================] - 0s 81us/sample - loss: 0.0018 - acc: 1.0000\n",
            "Epoch 199/250\n",
            "110/110 [==============================] - 0s 96us/sample - loss: 0.0018 - acc: 1.0000\n",
            "Epoch 200/250\n",
            "110/110 [==============================] - 0s 82us/sample - loss: 0.0018 - acc: 1.0000\n",
            "Epoch 201/250\n",
            "110/110 [==============================] - 0s 113us/sample - loss: 0.0017 - acc: 1.0000\n",
            "Epoch 202/250\n",
            "110/110 [==============================] - 0s 121us/sample - loss: 0.0017 - acc: 1.0000\n",
            "Epoch 203/250\n",
            "110/110 [==============================] - 0s 155us/sample - loss: 0.0017 - acc: 1.0000\n",
            "Epoch 204/250\n",
            "110/110 [==============================] - 0s 130us/sample - loss: 0.0017 - acc: 1.0000\n",
            "Epoch 205/250\n",
            "110/110 [==============================] - 0s 91us/sample - loss: 0.0016 - acc: 1.0000\n",
            "Epoch 206/250\n",
            "110/110 [==============================] - 0s 98us/sample - loss: 0.0016 - acc: 1.0000\n",
            "Epoch 207/250\n",
            "110/110 [==============================] - 0s 74us/sample - loss: 0.0016 - acc: 1.0000\n",
            "Epoch 208/250\n",
            "110/110 [==============================] - 0s 97us/sample - loss: 0.0016 - acc: 1.0000\n",
            "Epoch 209/250\n",
            "110/110 [==============================] - 0s 111us/sample - loss: 0.0016 - acc: 1.0000\n",
            "Epoch 210/250\n",
            "110/110 [==============================] - 0s 88us/sample - loss: 0.0015 - acc: 1.0000\n",
            "Epoch 211/250\n",
            "110/110 [==============================] - 0s 78us/sample - loss: 0.0015 - acc: 1.0000\n",
            "Epoch 212/250\n",
            "110/110 [==============================] - 0s 82us/sample - loss: 0.0015 - acc: 1.0000\n",
            "Epoch 213/250\n",
            "110/110 [==============================] - 0s 99us/sample - loss: 0.0015 - acc: 1.0000\n",
            "Epoch 214/250\n",
            "110/110 [==============================] - 0s 120us/sample - loss: 0.0015 - acc: 1.0000\n",
            "Epoch 215/250\n",
            "110/110 [==============================] - 0s 88us/sample - loss: 0.0014 - acc: 1.0000\n",
            "Epoch 216/250\n",
            "110/110 [==============================] - 0s 95us/sample - loss: 0.0014 - acc: 1.0000\n",
            "Epoch 217/250\n",
            "110/110 [==============================] - 0s 85us/sample - loss: 0.0014 - acc: 1.0000\n",
            "Epoch 218/250\n",
            "110/110 [==============================] - 0s 87us/sample - loss: 0.0014 - acc: 1.0000\n",
            "Epoch 219/250\n",
            "110/110 [==============================] - 0s 84us/sample - loss: 0.0014 - acc: 1.0000\n",
            "Epoch 220/250\n",
            "110/110 [==============================] - 0s 96us/sample - loss: 0.0013 - acc: 1.0000\n",
            "Epoch 221/250\n",
            "110/110 [==============================] - 0s 83us/sample - loss: 0.0013 - acc: 1.0000\n",
            "Epoch 222/250\n",
            "110/110 [==============================] - 0s 106us/sample - loss: 0.0013 - acc: 1.0000\n",
            "Epoch 223/250\n",
            "110/110 [==============================] - 0s 98us/sample - loss: 0.0013 - acc: 1.0000\n",
            "Epoch 224/250\n",
            "110/110 [==============================] - 0s 92us/sample - loss: 0.0013 - acc: 1.0000\n",
            "Epoch 225/250\n",
            "110/110 [==============================] - 0s 90us/sample - loss: 0.0013 - acc: 1.0000\n",
            "Epoch 226/250\n",
            "110/110 [==============================] - 0s 100us/sample - loss: 0.0013 - acc: 1.0000\n",
            "Epoch 227/250\n",
            "110/110 [==============================] - 0s 134us/sample - loss: 0.0013 - acc: 1.0000\n",
            "Epoch 228/250\n",
            "110/110 [==============================] - 0s 81us/sample - loss: 0.0012 - acc: 1.0000\n",
            "Epoch 229/250\n",
            "110/110 [==============================] - 0s 86us/sample - loss: 0.0012 - acc: 1.0000\n",
            "Epoch 230/250\n",
            "110/110 [==============================] - 0s 89us/sample - loss: 0.0012 - acc: 1.0000\n",
            "Epoch 231/250\n",
            "110/110 [==============================] - 0s 93us/sample - loss: 0.0012 - acc: 1.0000\n",
            "Epoch 232/250\n",
            "110/110 [==============================] - 0s 99us/sample - loss: 0.0012 - acc: 1.0000\n",
            "Epoch 233/250\n",
            "110/110 [==============================] - 0s 112us/sample - loss: 0.0012 - acc: 1.0000\n",
            "Epoch 234/250\n",
            "110/110 [==============================] - 0s 75us/sample - loss: 0.0012 - acc: 1.0000\n",
            "Epoch 235/250\n",
            "110/110 [==============================] - 0s 83us/sample - loss: 0.0012 - acc: 1.0000\n",
            "Epoch 236/250\n",
            "110/110 [==============================] - 0s 78us/sample - loss: 0.0012 - acc: 1.0000\n",
            "Epoch 237/250\n",
            "110/110 [==============================] - 0s 89us/sample - loss: 0.0012 - acc: 1.0000\n",
            "Epoch 238/250\n",
            "110/110 [==============================] - 0s 77us/sample - loss: 0.0012 - acc: 1.0000\n",
            "Epoch 239/250\n",
            "110/110 [==============================] - 0s 130us/sample - loss: 0.0011 - acc: 1.0000\n",
            "Epoch 240/250\n",
            "110/110 [==============================] - 0s 111us/sample - loss: 0.0011 - acc: 1.0000\n",
            "Epoch 241/250\n",
            "110/110 [==============================] - 0s 97us/sample - loss: 0.0011 - acc: 1.0000\n",
            "Epoch 242/250\n",
            "110/110 [==============================] - 0s 90us/sample - loss: 0.0011 - acc: 1.0000\n",
            "Epoch 243/250\n",
            "110/110 [==============================] - 0s 85us/sample - loss: 0.0011 - acc: 1.0000\n",
            "Epoch 244/250\n",
            "110/110 [==============================] - 0s 77us/sample - loss: 0.0011 - acc: 1.0000\n",
            "Epoch 245/250\n",
            "110/110 [==============================] - 0s 80us/sample - loss: 0.0011 - acc: 1.0000\n",
            "Epoch 246/250\n",
            "110/110 [==============================] - 0s 68us/sample - loss: 0.0011 - acc: 1.0000\n",
            "Epoch 247/250\n",
            "110/110 [==============================] - 0s 118us/sample - loss: 0.0011 - acc: 1.0000\n",
            "Epoch 248/250\n",
            "110/110 [==============================] - 0s 76us/sample - loss: 0.0011 - acc: 1.0000\n",
            "Epoch 249/250\n",
            "110/110 [==============================] - 0s 78us/sample - loss: 0.0011 - acc: 1.0000\n",
            "Epoch 250/250\n",
            "110/110 [==============================] - 0s 81us/sample - loss: 0.0010 - acc: 1.0000\n"
          ],
          "name": "stdout"
        },
        {
          "output_type": "execute_result",
          "data": {
            "text/plain": [
              "<tensorflow.python.keras.callbacks.History at 0x7f7936bd2dd8>"
            ]
          },
          "metadata": {
            "tags": []
          },
          "execution_count": 73
        }
      ]
    },
    {
      "cell_type": "code",
      "metadata": {
        "id": "Jj-Pj96PRryw",
        "colab_type": "code",
        "colab": {
          "base_uri": "https://localhost:8080/",
          "height": 289
        },
        "outputId": "60f38806-6d82-4b27-bcfe-717dbb1298aa"
      },
      "source": [
        "ann.summary()"
      ],
      "execution_count": 74,
      "outputs": [
        {
          "output_type": "stream",
          "text": [
            "Model: \"sequential\"\n",
            "_________________________________________________________________\n",
            "Layer (type)                 Output Shape              Param #   \n",
            "=================================================================\n",
            "dense (Dense)                multiple                  330       \n",
            "_________________________________________________________________\n",
            "dense_1 (Dense)              multiple                  140       \n",
            "_________________________________________________________________\n",
            "dense_2 (Dense)              multiple                  126       \n",
            "_________________________________________________________________\n",
            "dense_3 (Dense)              multiple                  7         \n",
            "=================================================================\n",
            "Total params: 603\n",
            "Trainable params: 603\n",
            "Non-trainable params: 0\n",
            "_________________________________________________________________\n"
          ],
          "name": "stdout"
        }
      ]
    },
    {
      "cell_type": "code",
      "metadata": {
        "id": "1RChH_y0SezP",
        "colab_type": "code",
        "colab": {
          "base_uri": "https://localhost:8080/",
          "height": 282
        },
        "outputId": "19d591ce-d8eb-4383-b189-4fbd6791e764"
      },
      "source": [
        "loss_df = pd.DataFrame(ann.history.history)\n",
        "loss_df.plot()\n",
        "#plot the loss history"
      ],
      "execution_count": 75,
      "outputs": [
        {
          "output_type": "execute_result",
          "data": {
            "text/plain": [
              "<matplotlib.axes._subplots.AxesSubplot at 0x7f7936b81f28>"
            ]
          },
          "metadata": {
            "tags": []
          },
          "execution_count": 75
        },
        {
          "output_type": "display_data",
          "data": {
            "image/png": "[encoded data removed]",
            "text/plain": [
              "<Figure size 432x288 with 1 Axes>"
            ]
          },
          "metadata": {
            "tags": []
          }
        }
      ]
    },
    {
      "cell_type": "markdown",
      "metadata": {
        "id": "mTmls3B1Th7O",
        "colab_type": "text"
      },
      "source": [
        "### We have built the following models\n",
        "**Logistic Regression Classifier**<br/>\n",
        "**K Nearest Neigbours Classifier**<br/>\n",
        "**Random Forest Classifier**<br/>\n",
        "**Naive Bayes Classifier**<br/>\n",
        "**Artificial Neural Networks**"
      ]
    },
    {
      "cell_type": "markdown",
      "metadata": {
        "id": "5eJZNYO7TmQk",
        "colab_type": "text"
      },
      "source": [
        "We find that the accuracy is almost same for this dataset but it usually changes.<br/>\n",
        "**So we finaly built a model which can predict with an accuracy of about 100%**.<br/>\n",
        "Apart from the conclusion of the data, I would like to add that the usage of ANNs, CNNs and RNNs are not always neccesary. Sometimes the Logistic Regression itself can prove how powerful it is.<br/>\n",
        "But... If you are really into getting the best accuracy, Neural Networks are the best way as far my knowledge goes.\n",
        "\n",
        "**Let's pray that everyone shall live happily and there should be no divorces**"
      ]
    },
    {
      "cell_type": "markdown",
      "metadata": {
        "id": "W16_jy-RTxI0",
        "colab_type": "text"
      },
      "source": [
        "## Thank You\n",
        "**BONDA SAIM**<br/>\n",
        "**Student @National Institute of Technology**<br/>\n",
        "**9441369824**<br/>\n",
        "**saim.sp.sonu@gmail.com**"
      ]
    }
  ]
}